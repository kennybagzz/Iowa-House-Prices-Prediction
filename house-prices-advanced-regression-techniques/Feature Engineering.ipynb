{
 "cells": [
  {
   "cell_type": "markdown",
   "id": "ef0ef7e0",
   "metadata": {},
   "source": [
    "# Import packages"
   ]
  },
  {
   "cell_type": "code",
   "execution_count": 61,
   "id": "7bcf963d",
   "metadata": {},
   "outputs": [],
   "source": [
    "#### Loading the packages to be used\n",
    "from __future__ import print_function  # Python 2 and 3\n",
    "import numpy as np\n",
    "from scipy import stats\n",
    "import matplotlib.pyplot as plt\n",
    "from scipy import stats\n",
    "%matplotlib inline\n",
    "plt.style.use('ggplot')\n",
    "import warnings\n",
    "warnings.filterwarnings('ignore')\n",
    "import pandas as pd\n",
    "import pickle\n",
    "import matplotlib.style as style\n",
    "import seaborn as sns\n",
    "from sklearn.linear_model import ElasticNet,ElasticNetCV\n",
    "from math import e "
   ]
  },
  {
   "cell_type": "markdown",
   "id": "8ae1fbb4",
   "metadata": {},
   "source": [
    "# Load Dataset"
   ]
  },
  {
   "cell_type": "code",
   "execution_count": 2,
   "id": "24a645aa",
   "metadata": {},
   "outputs": [],
   "source": [
    "\n",
    "train = pd.read_csv('train.csv')\n",
    "test = pd.read_csv('test.csv')\n",
    "train = train.drop('Id',1)\n",
    "train.columns\n",
    "test = test.drop('Id',1)"
   ]
  },
  {
   "cell_type": "code",
   "execution_count": 97,
   "id": "629d5f9b",
   "metadata": {},
   "outputs": [],
   "source": [
    "df = pd.read_csv('train.csv')"
   ]
  },
  {
   "cell_type": "code",
   "execution_count": 118,
   "id": "6e752f79",
   "metadata": {},
   "outputs": [
    {
     "data": {
      "text/plain": [
       "233281.2299014909"
      ]
     },
     "execution_count": 118,
     "metadata": {},
     "output_type": "execute_result"
    }
   ],
   "source": [
    "e ** 12.36"
   ]
  },
  {
   "cell_type": "code",
   "execution_count": 119,
   "id": "14721990",
   "metadata": {},
   "outputs": [
    {
     "data": {
      "text/plain": [
       "162754.79141900383"
      ]
     },
     "execution_count": 119,
     "metadata": {},
     "output_type": "execute_result"
    }
   ],
   "source": [
    "e ** 12"
   ]
  },
  {
   "cell_type": "code",
   "execution_count": 120,
   "id": "cf840ab8",
   "metadata": {},
   "outputs": [
    {
     "data": {
      "text/plain": [
       "113550.16492766762"
      ]
     },
     "execution_count": 120,
     "metadata": {},
     "output_type": "execute_result"
    }
   ],
   "source": [
    "e ** 11.64"
   ]
  },
  {
   "cell_type": "code",
   "execution_count": 111,
   "id": "06aa2456",
   "metadata": {
    "scrolled": true
   },
   "outputs": [
    {
     "data": {
      "text/html": [
       "<div>\n",
       "<style scoped>\n",
       "    .dataframe tbody tr th:only-of-type {\n",
       "        vertical-align: middle;\n",
       "    }\n",
       "\n",
       "    .dataframe tbody tr th {\n",
       "        vertical-align: top;\n",
       "    }\n",
       "\n",
       "    .dataframe thead th {\n",
       "        text-align: right;\n",
       "    }\n",
       "</style>\n",
       "<table border=\"1\" class=\"dataframe\">\n",
       "  <thead>\n",
       "    <tr style=\"text-align: right;\">\n",
       "      <th></th>\n",
       "      <th>SalePrice</th>\n",
       "    </tr>\n",
       "  </thead>\n",
       "  <tbody>\n",
       "    <tr>\n",
       "      <th>count</th>\n",
       "      <td>1460.000000</td>\n",
       "    </tr>\n",
       "    <tr>\n",
       "      <th>mean</th>\n",
       "      <td>12.024057</td>\n",
       "    </tr>\n",
       "    <tr>\n",
       "      <th>std</th>\n",
       "      <td>0.399449</td>\n",
       "    </tr>\n",
       "    <tr>\n",
       "      <th>min</th>\n",
       "      <td>10.460271</td>\n",
       "    </tr>\n",
       "    <tr>\n",
       "      <th>25%</th>\n",
       "      <td>11.775105</td>\n",
       "    </tr>\n",
       "    <tr>\n",
       "      <th>50%</th>\n",
       "      <td>12.001512</td>\n",
       "    </tr>\n",
       "    <tr>\n",
       "      <th>75%</th>\n",
       "      <td>12.273736</td>\n",
       "    </tr>\n",
       "    <tr>\n",
       "      <th>max</th>\n",
       "      <td>13.534474</td>\n",
       "    </tr>\n",
       "  </tbody>\n",
       "</table>\n",
       "</div>"
      ],
      "text/plain": [
       "         SalePrice\n",
       "count  1460.000000\n",
       "mean     12.024057\n",
       "std       0.399449\n",
       "min      10.460271\n",
       "25%      11.775105\n",
       "50%      12.001512\n",
       "75%      12.273736\n",
       "max      13.534474"
      ]
     },
     "execution_count": 111,
     "metadata": {},
     "output_type": "execute_result"
    }
   ],
   "source": [
    "np.log1p(df[[\"SalePrice\"]]).describe()"
   ]
  },
  {
   "cell_type": "code",
   "execution_count": 117,
   "id": "eaddcc50",
   "metadata": {},
   "outputs": [
    {
     "data": {
      "text/plain": [
       "Text(0.5, 0, 'Log Transformed Sale Price')"
      ]
     },
     "execution_count": 117,
     "metadata": {},
     "output_type": "execute_result"
    },
    {
     "data": {
      "image/png": "[encoded data removed]",
      "text/plain": [
       "<Figure size 432x288 with 1 Axes>"
      ]
     },
     "metadata": {},
     "output_type": "display_data"
    }
   ],
   "source": [
    "plt.boxplot(np.log1p(df[\"SalePrice\"]), vert = False)\n",
    "plt.title(\"Boxplot of Log Transformed Sale Price\")\n",
    "plt.xlabel(\"Log Transformed Sale Price\")"
   ]
  },
  {
   "cell_type": "code",
   "execution_count": 103,
   "id": "128640bf",
   "metadata": {},
   "outputs": [
    {
     "data": {
      "text/plain": [
       "166717.65967656724"
      ]
     },
     "execution_count": 103,
     "metadata": {},
     "output_type": "execute_result"
    }
   ],
   "source": [
    "e** 12.024057"
   ]
  },
  {
   "cell_type": "code",
   "execution_count": 114,
   "id": "951a1fd3",
   "metadata": {},
   "outputs": [
    {
     "data": {
      "text/plain": [
       "Text(0.5, 0, 'SalePrice')"
      ]
     },
     "execution_count": 114,
     "metadata": {},
     "output_type": "execute_result"
    },
    {
     "data": {
      "image/png": "[encoded data removed]",
      "text/plain": [
       "<Figure size 432x288 with 1 Axes>"
      ]
     },
     "metadata": {},
     "output_type": "display_data"
    }
   ],
   "source": [
    "plt.boxplot(df[\"SalePrice\"], vert = False)\n",
    "plt.title(\"Boxplot of SalePrice\")\n",
    "plt.xlabel(\"SalePrice\")"
   ]
  },
  {
   "cell_type": "code",
   "execution_count": 99,
   "id": "ce42a83c",
   "metadata": {},
   "outputs": [
    {
     "data": {
      "text/html": [
       "<div>\n",
       "<style scoped>\n",
       "    .dataframe tbody tr th:only-of-type {\n",
       "        vertical-align: middle;\n",
       "    }\n",
       "\n",
       "    .dataframe tbody tr th {\n",
       "        vertical-align: top;\n",
       "    }\n",
       "\n",
       "    .dataframe thead th {\n",
       "        text-align: right;\n",
       "    }\n",
       "</style>\n",
       "<table border=\"1\" class=\"dataframe\">\n",
       "  <thead>\n",
       "    <tr style=\"text-align: right;\">\n",
       "      <th></th>\n",
       "      <th>SalePrice</th>\n",
       "    </tr>\n",
       "  </thead>\n",
       "  <tbody>\n",
       "    <tr>\n",
       "      <th>count</th>\n",
       "      <td>1460.000000</td>\n",
       "    </tr>\n",
       "    <tr>\n",
       "      <th>mean</th>\n",
       "      <td>180921.195890</td>\n",
       "    </tr>\n",
       "    <tr>\n",
       "      <th>std</th>\n",
       "      <td>79442.502883</td>\n",
       "    </tr>\n",
       "    <tr>\n",
       "      <th>min</th>\n",
       "      <td>34900.000000</td>\n",
       "    </tr>\n",
       "    <tr>\n",
       "      <th>25%</th>\n",
       "      <td>129975.000000</td>\n",
       "    </tr>\n",
       "    <tr>\n",
       "      <th>50%</th>\n",
       "      <td>163000.000000</td>\n",
       "    </tr>\n",
       "    <tr>\n",
       "      <th>75%</th>\n",
       "      <td>214000.000000</td>\n",
       "    </tr>\n",
       "    <tr>\n",
       "      <th>max</th>\n",
       "      <td>755000.000000</td>\n",
       "    </tr>\n",
       "  </tbody>\n",
       "</table>\n",
       "</div>"
      ],
      "text/plain": [
       "           SalePrice\n",
       "count    1460.000000\n",
       "mean   180921.195890\n",
       "std     79442.502883\n",
       "min     34900.000000\n",
       "25%    129975.000000\n",
       "50%    163000.000000\n",
       "75%    214000.000000\n",
       "max    755000.000000"
      ]
     },
     "execution_count": 99,
     "metadata": {},
     "output_type": "execute_result"
    }
   ],
   "source": [
    "df[[\"SalePrice\"]].describe()"
   ]
  },
  {
   "cell_type": "markdown",
   "id": "9b82adbf",
   "metadata": {},
   "source": [
    "# Clean Dataset\n",
    "   Modify NAs if needed according to the data description"
   ]
  },
  {
   "cell_type": "code",
   "execution_count": 3,
   "id": "70b93f74",
   "metadata": {},
   "outputs": [],
   "source": [
    "# df.Alley = df.Alley.fillna('NoAlley')\n",
    "# df.BsmtQual = df.BsmtQual.fillna(\"NoBase\")\n",
    "# df.BsmtCond = df.BsmtCond.fillna(\"NoBase\")\n",
    "# df.BsmtExposure = df.BsmtExposure.fillna(\"NoBase\")\n",
    "# df.BsmtFinType1 = df.BsmtFinType1.fillna(\"NoBase\")\n",
    "# df.BsmtFinType2 = df.BsmtFinType2.fillna(\"NoBase\")\n",
    "# df.FireplaceQu = df.FireplaceQu.fillna(\"NoFire\")\n",
    "# df.GarageType = df.GarageType.fillna(\"NoGar\")\n",
    "# df.GarageFinish = df.GarageFinish.fillna(\"NoGar\")\n",
    "# df.GarageQual = df.GarageQual.fillna(\"NoGar\")\n",
    "# df.GarageCond = df.GarageCond.fillna(\"NoGar\")\n",
    "# df.PoolQC = df.PoolQC.fillna(\"NoPool\")\n",
    "# df.Fence = df.Fence.fillna(\"NoFen\")\n",
    "# df.MiscFeature = df.MiscFeature.fillna(\"NoMF\")\n",
    "# df.LotFrontage = df.LotFrontage.fillna(0)\n",
    "# df.MasVnrArea = df.MasVnrArea.fillna(0)"
   ]
  },
  {
   "cell_type": "markdown",
   "id": "e4d0262c",
   "metadata": {},
   "source": [
    "# Make Binary variable values 0 and 1 "
   ]
  },
  {
   "cell_type": "code",
   "execution_count": 4,
   "id": "696fdf38",
   "metadata": {},
   "outputs": [],
   "source": [
    "# #binary categorical variables are 'Street','CentralAir'\n",
    "\n",
    "# df['Street'] = df['Street'].replace(['Pave'],0)\n",
    "# df['Street'] = df['Street'].replace(['Grvl'],1)\n",
    "\n",
    "# df['CentralAir'] = df['CentralAir'].replace([\"Y\"], 1)\n",
    "# df['CentralAir'] = df['CentralAir'].replace([\"N\"], 0)\n"
   ]
  },
  {
   "cell_type": "markdown",
   "id": "08267178",
   "metadata": {},
   "source": [
    "# Create pickle of df"
   ]
  },
  {
   "cell_type": "code",
   "execution_count": 5,
   "id": "730079d9",
   "metadata": {},
   "outputs": [],
   "source": [
    "# with open('cleaned_df.pkl', 'wb') as f:\n",
    "#     pickle.dump(df, f)"
   ]
  },
  {
   "cell_type": "markdown",
   "id": "f7bcf13e",
   "metadata": {},
   "source": [
    "# feature engineering\n"
   ]
  },
  {
   "cell_type": "code",
   "execution_count": 6,
   "id": "ac6644ad",
   "metadata": {},
   "outputs": [
    {
     "data": {
      "text/html": [
       "<div>\n",
       "<style scoped>\n",
       "    .dataframe tbody tr th:only-of-type {\n",
       "        vertical-align: middle;\n",
       "    }\n",
       "\n",
       "    .dataframe tbody tr th {\n",
       "        vertical-align: top;\n",
       "    }\n",
       "\n",
       "    .dataframe thead th {\n",
       "        text-align: right;\n",
       "    }\n",
       "</style>\n",
       "<table border=\"1\" class=\"dataframe\">\n",
       "  <thead>\n",
       "    <tr style=\"text-align: right;\">\n",
       "      <th></th>\n",
       "      <th>Total_missing</th>\n",
       "      <th>Percent_wise</th>\n",
       "    </tr>\n",
       "  </thead>\n",
       "  <tbody>\n",
       "    <tr>\n",
       "      <th>PoolQC</th>\n",
       "      <td>1453</td>\n",
       "      <td>99.52</td>\n",
       "    </tr>\n",
       "    <tr>\n",
       "      <th>MiscFeature</th>\n",
       "      <td>1406</td>\n",
       "      <td>96.30</td>\n",
       "    </tr>\n",
       "    <tr>\n",
       "      <th>Alley</th>\n",
       "      <td>1369</td>\n",
       "      <td>93.77</td>\n",
       "    </tr>\n",
       "    <tr>\n",
       "      <th>Fence</th>\n",
       "      <td>1179</td>\n",
       "      <td>80.75</td>\n",
       "    </tr>\n",
       "    <tr>\n",
       "      <th>FireplaceQu</th>\n",
       "      <td>690</td>\n",
       "      <td>47.26</td>\n",
       "    </tr>\n",
       "    <tr>\n",
       "      <th>LotFrontage</th>\n",
       "      <td>259</td>\n",
       "      <td>17.74</td>\n",
       "    </tr>\n",
       "    <tr>\n",
       "      <th>GarageYrBlt</th>\n",
       "      <td>81</td>\n",
       "      <td>5.55</td>\n",
       "    </tr>\n",
       "    <tr>\n",
       "      <th>GarageCond</th>\n",
       "      <td>81</td>\n",
       "      <td>5.55</td>\n",
       "    </tr>\n",
       "    <tr>\n",
       "      <th>GarageType</th>\n",
       "      <td>81</td>\n",
       "      <td>5.55</td>\n",
       "    </tr>\n",
       "    <tr>\n",
       "      <th>GarageFinish</th>\n",
       "      <td>81</td>\n",
       "      <td>5.55</td>\n",
       "    </tr>\n",
       "    <tr>\n",
       "      <th>GarageQual</th>\n",
       "      <td>81</td>\n",
       "      <td>5.55</td>\n",
       "    </tr>\n",
       "    <tr>\n",
       "      <th>BsmtExposure</th>\n",
       "      <td>38</td>\n",
       "      <td>2.60</td>\n",
       "    </tr>\n",
       "    <tr>\n",
       "      <th>BsmtFinType2</th>\n",
       "      <td>38</td>\n",
       "      <td>2.60</td>\n",
       "    </tr>\n",
       "    <tr>\n",
       "      <th>BsmtCond</th>\n",
       "      <td>37</td>\n",
       "      <td>2.53</td>\n",
       "    </tr>\n",
       "    <tr>\n",
       "      <th>BsmtQual</th>\n",
       "      <td>37</td>\n",
       "      <td>2.53</td>\n",
       "    </tr>\n",
       "    <tr>\n",
       "      <th>BsmtFinType1</th>\n",
       "      <td>37</td>\n",
       "      <td>2.53</td>\n",
       "    </tr>\n",
       "    <tr>\n",
       "      <th>MasVnrArea</th>\n",
       "      <td>8</td>\n",
       "      <td>0.55</td>\n",
       "    </tr>\n",
       "    <tr>\n",
       "      <th>MasVnrType</th>\n",
       "      <td>8</td>\n",
       "      <td>0.55</td>\n",
       "    </tr>\n",
       "    <tr>\n",
       "      <th>Electrical</th>\n",
       "      <td>1</td>\n",
       "      <td>0.07</td>\n",
       "    </tr>\n",
       "  </tbody>\n",
       "</table>\n",
       "</div>"
      ],
      "text/plain": [
       "              Total_missing  Percent_wise\n",
       "PoolQC                 1453         99.52\n",
       "MiscFeature            1406         96.30\n",
       "Alley                  1369         93.77\n",
       "Fence                  1179         80.75\n",
       "FireplaceQu             690         47.26\n",
       "LotFrontage             259         17.74\n",
       "GarageYrBlt              81          5.55\n",
       "GarageCond               81          5.55\n",
       "GarageType               81          5.55\n",
       "GarageFinish             81          5.55\n",
       "GarageQual               81          5.55\n",
       "BsmtExposure             38          2.60\n",
       "BsmtFinType2             38          2.60\n",
       "BsmtCond                 37          2.53\n",
       "BsmtQual                 37          2.53\n",
       "BsmtFinType1             37          2.53\n",
       "MasVnrArea                8          0.55\n",
       "MasVnrType                8          0.55\n",
       "Electrical                1          0.07"
      ]
     },
     "execution_count": 6,
     "metadata": {},
     "output_type": "execute_result"
    }
   ],
   "source": [
    "total = train.isnull().sum().sort_values(ascending = False)[train.isnull().sum().sort_values(ascending = False) != 0]\n",
    "percent = round(train.isnull().sum().sort_values(ascending = False)/len(train)*100,2)[round(train.isnull().sum().sort_values(ascending = False)/len(train)*100,2) != 0]\n",
    "pd.concat([total, percent], axis=1, keys=['Total_missing','Percent_wise'])\n"
   ]
  },
  {
   "cell_type": "code",
   "execution_count": 7,
   "id": "480db105",
   "metadata": {},
   "outputs": [
    {
     "data": {
      "text/html": [
       "<div>\n",
       "<style scoped>\n",
       "    .dataframe tbody tr th:only-of-type {\n",
       "        vertical-align: middle;\n",
       "    }\n",
       "\n",
       "    .dataframe tbody tr th {\n",
       "        vertical-align: top;\n",
       "    }\n",
       "\n",
       "    .dataframe thead th {\n",
       "        text-align: right;\n",
       "    }\n",
       "</style>\n",
       "<table border=\"1\" class=\"dataframe\">\n",
       "  <thead>\n",
       "    <tr style=\"text-align: right;\">\n",
       "      <th></th>\n",
       "      <th>Total_missing</th>\n",
       "      <th>Percent_wise</th>\n",
       "    </tr>\n",
       "  </thead>\n",
       "  <tbody>\n",
       "    <tr>\n",
       "      <th>PoolQC</th>\n",
       "      <td>1456</td>\n",
       "      <td>99.73</td>\n",
       "    </tr>\n",
       "    <tr>\n",
       "      <th>MiscFeature</th>\n",
       "      <td>1408</td>\n",
       "      <td>96.44</td>\n",
       "    </tr>\n",
       "    <tr>\n",
       "      <th>Alley</th>\n",
       "      <td>1352</td>\n",
       "      <td>92.60</td>\n",
       "    </tr>\n",
       "    <tr>\n",
       "      <th>Fence</th>\n",
       "      <td>1169</td>\n",
       "      <td>80.07</td>\n",
       "    </tr>\n",
       "    <tr>\n",
       "      <th>FireplaceQu</th>\n",
       "      <td>730</td>\n",
       "      <td>50.00</td>\n",
       "    </tr>\n",
       "    <tr>\n",
       "      <th>LotFrontage</th>\n",
       "      <td>227</td>\n",
       "      <td>15.55</td>\n",
       "    </tr>\n",
       "    <tr>\n",
       "      <th>GarageYrBlt</th>\n",
       "      <td>78</td>\n",
       "      <td>5.34</td>\n",
       "    </tr>\n",
       "    <tr>\n",
       "      <th>GarageFinish</th>\n",
       "      <td>78</td>\n",
       "      <td>5.34</td>\n",
       "    </tr>\n",
       "    <tr>\n",
       "      <th>GarageQual</th>\n",
       "      <td>78</td>\n",
       "      <td>5.34</td>\n",
       "    </tr>\n",
       "    <tr>\n",
       "      <th>GarageCond</th>\n",
       "      <td>78</td>\n",
       "      <td>5.34</td>\n",
       "    </tr>\n",
       "    <tr>\n",
       "      <th>GarageType</th>\n",
       "      <td>76</td>\n",
       "      <td>5.21</td>\n",
       "    </tr>\n",
       "    <tr>\n",
       "      <th>BsmtCond</th>\n",
       "      <td>45</td>\n",
       "      <td>3.08</td>\n",
       "    </tr>\n",
       "    <tr>\n",
       "      <th>BsmtExposure</th>\n",
       "      <td>44</td>\n",
       "      <td>3.01</td>\n",
       "    </tr>\n",
       "    <tr>\n",
       "      <th>BsmtQual</th>\n",
       "      <td>44</td>\n",
       "      <td>3.01</td>\n",
       "    </tr>\n",
       "    <tr>\n",
       "      <th>BsmtFinType2</th>\n",
       "      <td>42</td>\n",
       "      <td>2.88</td>\n",
       "    </tr>\n",
       "    <tr>\n",
       "      <th>BsmtFinType1</th>\n",
       "      <td>42</td>\n",
       "      <td>2.88</td>\n",
       "    </tr>\n",
       "    <tr>\n",
       "      <th>MasVnrType</th>\n",
       "      <td>16</td>\n",
       "      <td>1.10</td>\n",
       "    </tr>\n",
       "    <tr>\n",
       "      <th>MasVnrArea</th>\n",
       "      <td>15</td>\n",
       "      <td>1.03</td>\n",
       "    </tr>\n",
       "    <tr>\n",
       "      <th>MSZoning</th>\n",
       "      <td>4</td>\n",
       "      <td>0.27</td>\n",
       "    </tr>\n",
       "    <tr>\n",
       "      <th>Functional</th>\n",
       "      <td>2</td>\n",
       "      <td>0.14</td>\n",
       "    </tr>\n",
       "    <tr>\n",
       "      <th>BsmtHalfBath</th>\n",
       "      <td>2</td>\n",
       "      <td>0.14</td>\n",
       "    </tr>\n",
       "    <tr>\n",
       "      <th>BsmtFullBath</th>\n",
       "      <td>2</td>\n",
       "      <td>0.14</td>\n",
       "    </tr>\n",
       "    <tr>\n",
       "      <th>Utilities</th>\n",
       "      <td>2</td>\n",
       "      <td>0.14</td>\n",
       "    </tr>\n",
       "    <tr>\n",
       "      <th>KitchenQual</th>\n",
       "      <td>1</td>\n",
       "      <td>0.07</td>\n",
       "    </tr>\n",
       "    <tr>\n",
       "      <th>SaleType</th>\n",
       "      <td>1</td>\n",
       "      <td>0.07</td>\n",
       "    </tr>\n",
       "    <tr>\n",
       "      <th>BsmtFinSF1</th>\n",
       "      <td>1</td>\n",
       "      <td>0.07</td>\n",
       "    </tr>\n",
       "    <tr>\n",
       "      <th>GarageCars</th>\n",
       "      <td>1</td>\n",
       "      <td>0.07</td>\n",
       "    </tr>\n",
       "    <tr>\n",
       "      <th>BsmtUnfSF</th>\n",
       "      <td>1</td>\n",
       "      <td>0.07</td>\n",
       "    </tr>\n",
       "    <tr>\n",
       "      <th>TotalBsmtSF</th>\n",
       "      <td>1</td>\n",
       "      <td>0.07</td>\n",
       "    </tr>\n",
       "    <tr>\n",
       "      <th>Exterior2nd</th>\n",
       "      <td>1</td>\n",
       "      <td>0.07</td>\n",
       "    </tr>\n",
       "    <tr>\n",
       "      <th>Exterior1st</th>\n",
       "      <td>1</td>\n",
       "      <td>0.07</td>\n",
       "    </tr>\n",
       "    <tr>\n",
       "      <th>GarageArea</th>\n",
       "      <td>1</td>\n",
       "      <td>0.07</td>\n",
       "    </tr>\n",
       "    <tr>\n",
       "      <th>BsmtFinSF2</th>\n",
       "      <td>1</td>\n",
       "      <td>0.07</td>\n",
       "    </tr>\n",
       "  </tbody>\n",
       "</table>\n",
       "</div>"
      ],
      "text/plain": [
       "              Total_missing  Percent_wise\n",
       "PoolQC                 1456         99.73\n",
       "MiscFeature            1408         96.44\n",
       "Alley                  1352         92.60\n",
       "Fence                  1169         80.07\n",
       "FireplaceQu             730         50.00\n",
       "LotFrontage             227         15.55\n",
       "GarageYrBlt              78          5.34\n",
       "GarageFinish             78          5.34\n",
       "GarageQual               78          5.34\n",
       "GarageCond               78          5.34\n",
       "GarageType               76          5.21\n",
       "BsmtCond                 45          3.08\n",
       "BsmtExposure             44          3.01\n",
       "BsmtQual                 44          3.01\n",
       "BsmtFinType2             42          2.88\n",
       "BsmtFinType1             42          2.88\n",
       "MasVnrType               16          1.10\n",
       "MasVnrArea               15          1.03\n",
       "MSZoning                  4          0.27\n",
       "Functional                2          0.14\n",
       "BsmtHalfBath              2          0.14\n",
       "BsmtFullBath              2          0.14\n",
       "Utilities                 2          0.14\n",
       "KitchenQual               1          0.07\n",
       "SaleType                  1          0.07\n",
       "BsmtFinSF1                1          0.07\n",
       "GarageCars                1          0.07\n",
       "BsmtUnfSF                 1          0.07\n",
       "TotalBsmtSF               1          0.07\n",
       "Exterior2nd               1          0.07\n",
       "Exterior1st               1          0.07\n",
       "GarageArea                1          0.07\n",
       "BsmtFinSF2                1          0.07"
      ]
     },
     "execution_count": 7,
     "metadata": {},
     "output_type": "execute_result"
    }
   ],
   "source": [
    "total = test.isnull().sum().sort_values(ascending = False)[test.isnull().sum().sort_values(ascending = False) != 0]\n",
    "percent = round(test.isnull().sum().sort_values(ascending = False)/len(train)*100,2)[round(test.isnull().sum().sort_values(ascending = False)/len(train)*100,2) != 0]\n",
    "pd.concat([total, percent], axis=1, keys=['Total_missing','Percent_wise'])\n"
   ]
  },
  {
   "cell_type": "code",
   "execution_count": 8,
   "id": "8084f10c",
   "metadata": {},
   "outputs": [
    {
     "name": "stdout",
     "output_type": "stream",
     "text": [
      "The number of missing values in the training set is 0.\n",
      "The number of missing values in the testing set is 22.\n"
     ]
    }
   ],
   "source": [
    "# We first impute the variables in which none is imputed in both the training and testing sets.\n",
    "features_impute = ['MiscFeature', 'Alley', 'Fence', 'FireplaceQu', 'GarageYrBlt', 'GarageType', 'GarageQual', 'GarageFinish', \n",
    "                   'GarageCond', 'BsmtQual', 'BsmtFinType1', 'BsmtFinType2', 'BsmtExposure', 'BsmtCond']\n",
    "\n",
    "for feature in features_impute:\n",
    "    train[feature] = train[feature].replace(np.nan, 'None') \n",
    "    test[feature] = test[feature].replace(np.nan, 'None') \n",
    "\n",
    "# We now impute PoolQC\n",
    "train['PoolQC'] = train['PoolQC'].replace(np.nan, 0) \n",
    "test['PoolQC'] = test['PoolQC'].replace(np.nan, 0) \n",
    "\n",
    "# We now impute the features for which an imputation method was used:\n",
    "# LotFrontage\n",
    "\n",
    "train['LotFrontage'] = train.groupby('Neighborhood')['LotFrontage'].transform(lambda x: x.fillna(x.median()))\n",
    "\n",
    "for i in range(0, test.shape[0]):\n",
    "    if test['Neighborhood'].iloc[i] in list(train['Neighborhood'].unique()):\n",
    "        test['LotFrontage'].iloc[i] = train.groupby('Neighborhood')['LotFrontage'].median()[test['Neighborhood'].iloc[i]]\n",
    "    else:\n",
    "        test['LotFrontage'].iloc[i] = train['LotFrontage'].median()\n",
    "\n",
    "# MasVnrArea\n",
    "train['MasVnrArea'] = train['MasVnrArea'].fillna(train['MasVnrArea'].median())\n",
    "test['MasVnrArea'] = test['MasVnrArea'].fillna(train['MasVnrArea'].median())\n",
    "\n",
    "# MasVnrType\n",
    "train['MasVnrType'] = train['MasVnrType'].apply(lambda x: str(x))\n",
    "train['MasVnrType'] = train['MasVnrType'].apply(lambda x: train['MasVnrType'].mode() if x == 'nan' else x)\n",
    "\n",
    "test['MasVnrType'] = test['MasVnrType'].apply(lambda x: str(x))\n",
    "test['MasVnrType'] = test['MasVnrType'].apply(lambda x: train['MasVnrType'].mode() if x == 'nan' else x)\n",
    "\n",
    "# Electrical(only missing value is in the testing set)\n",
    "train['Electrical'] = train['Electrical'].apply(lambda x: str(x))\n",
    "train['Electrical'] = train['Electrical'].apply(lambda x: train['Electrical'].mode() if x == 'nan' else x)\n",
    "\n",
    "test['Electrical'] = test['Electrical'].apply(lambda x: str(x))\n",
    "test['Electrical'] = test['Electrical'].apply(lambda x: train['Electrical'].mode() if x == 'nan' else x)\n",
    "\n",
    "# CHECK IF THIS WAS DONE PROPERLY OR IF THIS MEDIANS AND MODES SHOULD HAVE BEEN LEARNED IN THE TRAINING DATAFRAME.\n",
    "\n",
    "\n",
    "# Check if there are still missing values:\n",
    "\n",
    "# Total number of missing values in the training dataframe\n",
    "print('The number of missing values in the training set is {}.'.format(train.isna().sum().sum()))\n",
    "# Total number of missing values in the training dataframe\n",
    "print('The number of missing values in the testing set is {}.'.format(test.isna().sum().sum()))\n",
    "\n",
    "\n"
   ]
  },
  {
   "cell_type": "code",
   "execution_count": 9,
   "id": "f768db92",
   "metadata": {},
   "outputs": [
    {
     "data": {
      "text/html": [
       "<div>\n",
       "<style scoped>\n",
       "    .dataframe tbody tr th:only-of-type {\n",
       "        vertical-align: middle;\n",
       "    }\n",
       "\n",
       "    .dataframe tbody tr th {\n",
       "        vertical-align: top;\n",
       "    }\n",
       "\n",
       "    .dataframe thead th {\n",
       "        text-align: right;\n",
       "    }\n",
       "</style>\n",
       "<table border=\"1\" class=\"dataframe\">\n",
       "  <thead>\n",
       "    <tr style=\"text-align: right;\">\n",
       "      <th></th>\n",
       "      <th>Total_missing</th>\n",
       "      <th>Percent_wise</th>\n",
       "    </tr>\n",
       "  </thead>\n",
       "  <tbody>\n",
       "    <tr>\n",
       "      <th>MSZoning</th>\n",
       "      <td>4</td>\n",
       "      <td>0.27</td>\n",
       "    </tr>\n",
       "    <tr>\n",
       "      <th>BsmtFullBath</th>\n",
       "      <td>2</td>\n",
       "      <td>0.14</td>\n",
       "    </tr>\n",
       "    <tr>\n",
       "      <th>BsmtHalfBath</th>\n",
       "      <td>2</td>\n",
       "      <td>0.14</td>\n",
       "    </tr>\n",
       "    <tr>\n",
       "      <th>Utilities</th>\n",
       "      <td>2</td>\n",
       "      <td>0.14</td>\n",
       "    </tr>\n",
       "    <tr>\n",
       "      <th>Functional</th>\n",
       "      <td>2</td>\n",
       "      <td>0.14</td>\n",
       "    </tr>\n",
       "    <tr>\n",
       "      <th>BsmtFinSF1</th>\n",
       "      <td>1</td>\n",
       "      <td>0.07</td>\n",
       "    </tr>\n",
       "    <tr>\n",
       "      <th>KitchenQual</th>\n",
       "      <td>1</td>\n",
       "      <td>0.07</td>\n",
       "    </tr>\n",
       "    <tr>\n",
       "      <th>Exterior1st</th>\n",
       "      <td>1</td>\n",
       "      <td>0.07</td>\n",
       "    </tr>\n",
       "    <tr>\n",
       "      <th>GarageCars</th>\n",
       "      <td>1</td>\n",
       "      <td>0.07</td>\n",
       "    </tr>\n",
       "    <tr>\n",
       "      <th>GarageArea</th>\n",
       "      <td>1</td>\n",
       "      <td>0.07</td>\n",
       "    </tr>\n",
       "    <tr>\n",
       "      <th>Exterior2nd</th>\n",
       "      <td>1</td>\n",
       "      <td>0.07</td>\n",
       "    </tr>\n",
       "    <tr>\n",
       "      <th>BsmtFinSF2</th>\n",
       "      <td>1</td>\n",
       "      <td>0.07</td>\n",
       "    </tr>\n",
       "    <tr>\n",
       "      <th>BsmtUnfSF</th>\n",
       "      <td>1</td>\n",
       "      <td>0.07</td>\n",
       "    </tr>\n",
       "    <tr>\n",
       "      <th>TotalBsmtSF</th>\n",
       "      <td>1</td>\n",
       "      <td>0.07</td>\n",
       "    </tr>\n",
       "    <tr>\n",
       "      <th>SaleType</th>\n",
       "      <td>1</td>\n",
       "      <td>0.07</td>\n",
       "    </tr>\n",
       "  </tbody>\n",
       "</table>\n",
       "</div>"
      ],
      "text/plain": [
       "              Total_missing  Percent_wise\n",
       "MSZoning                  4          0.27\n",
       "BsmtFullBath              2          0.14\n",
       "BsmtHalfBath              2          0.14\n",
       "Utilities                 2          0.14\n",
       "Functional                2          0.14\n",
       "BsmtFinSF1                1          0.07\n",
       "KitchenQual               1          0.07\n",
       "Exterior1st               1          0.07\n",
       "GarageCars                1          0.07\n",
       "GarageArea                1          0.07\n",
       "Exterior2nd               1          0.07\n",
       "BsmtFinSF2                1          0.07\n",
       "BsmtUnfSF                 1          0.07\n",
       "TotalBsmtSF               1          0.07\n",
       "SaleType                  1          0.07"
      ]
     },
     "execution_count": 9,
     "metadata": {},
     "output_type": "execute_result"
    }
   ],
   "source": [
    "total = test.isnull().sum().sort_values(ascending = False)[test.isnull().sum().sort_values(ascending = False) != 0]\n",
    "percent = round(test.isnull().sum().sort_values(ascending = False)/len(train)*100,2)[round(test.isnull().sum().sort_values(ascending = False)/len(train)*100,2) != 0]\n",
    "pd.concat([total, percent], axis=1, keys=['Total_missing','Percent_wise'])\n"
   ]
  },
  {
   "cell_type": "code",
   "execution_count": 10,
   "id": "a47f846f",
   "metadata": {},
   "outputs": [
    {
     "name": "stdout",
     "output_type": "stream",
     "text": [
      "(0.8824754142814621, 0.0)\n",
      "(0.825489374308843, 0.0)\n",
      "(0.8195299750050331, 0.0)\n",
      "(0.825489374308843, 0.0)\n"
     ]
    }
   ],
   "source": [
    "from scipy.stats import pearsonr\n",
    "print(pearsonr(train['GarageCars'], train['GarageArea']))\n",
    "print(pearsonr(train['GrLivArea'], train['TotRmsAbvGrd']))\n",
    "print(pearsonr(train['TotalBsmtSF'], train['1stFlrSF']))\n",
    "print(pearsonr(train['GrLivArea'], train['TotRmsAbvGrd']))"
   ]
  },
  {
   "cell_type": "markdown",
   "id": "e830450e",
   "metadata": {},
   "source": [
    "# TotalSF: this new feature is created by adding up other variables that add up to the total square footage of each house/observation.\n"
   ]
  },
  {
   "cell_type": "code",
   "execution_count": 11,
   "id": "9290946d",
   "metadata": {},
   "outputs": [],
   "source": [
    "# Training set\n",
    "train['TotalSF'] = train['TotalBsmtSF'] + train['1stFlrSF'] + train['2ndFlrSF']\n",
    "\n",
    "# Test set\n",
    "test['TotalSF']= test['TotalBsmtSF'] + test['1stFlrSF'] + test['2ndFlrSF']"
   ]
  },
  {
   "cell_type": "markdown",
   "id": "0d61a8fe",
   "metadata": {},
   "source": [
    "# Total bathrooms: this new feature includes the number of bathrooms in the house/observation.\n"
   ]
  },
  {
   "cell_type": "code",
   "execution_count": 12,
   "id": "83acfbdd",
   "metadata": {},
   "outputs": [],
   "source": [
    "# Training set\n",
    "train['Total_Bathrooms'] = (train['FullBath'] + (0.5 * train['HalfBath']) +\n",
    "                               train['BsmtFullBath'] + (0.5 * train['BsmtHalfBath']))\n",
    "\n",
    "# Test set\n",
    "test['Total_Bathrooms'] = (test['FullBath'] + (0.5 * test['HalfBath']) +\n",
    "                               test['BsmtFullBath'] + (0.5 * test['BsmtHalfBath']))"
   ]
  },
  {
   "cell_type": "markdown",
   "id": "d0abba12",
   "metadata": {},
   "source": [
    "# Total_porch_sf: new feature that includes the total square footage of the porch in each house/observation.\n"
   ]
  },
  {
   "cell_type": "code",
   "execution_count": 13,
   "id": "2c00609f",
   "metadata": {},
   "outputs": [],
   "source": [
    "# Training set\n",
    "train['Total_porch_sf'] = (train['OpenPorchSF'] + train['3SsnPorch'] +\n",
    "                              train['EnclosedPorch'] +train['ScreenPorch'] +\n",
    "                              train['WoodDeckSF'])\n",
    "\n",
    "# Test set\n",
    "test['Total_porch_sf'] = (test['OpenPorchSF'] + test['3SsnPorch'] +\n",
    "                              test['EnclosedPorch'] + test['ScreenPorch'] +\n",
    "                              test['WoodDeckSF'])\n"
   ]
  },
  {
   "cell_type": "code",
   "execution_count": 14,
   "id": "fad5e355",
   "metadata": {},
   "outputs": [],
   "source": [
    "#YrBltAndRemod: this variable adds the year the house was remodeled to the house it was built.\n",
    "\n",
    "train['YrBltAndRemod'] = train['YearBuilt'] +train['YearRemodAdd']\n",
    "test['YrBltAndRemod'] = test['YearBuilt'] + test['YearRemodAdd']\n",
    "\n"
   ]
  },
  {
   "cell_type": "markdown",
   "id": "75643c3a",
   "metadata": {},
   "source": [
    "We create a series of dummy features that gathers information on whether any of the following are present in the house:\n",
    "1. haspool: whether there is a pool.\n",
    "2. has2ndfloor: whether there is a second floor.\n",
    "3. hasgarage: whether there is a garage.\n",
    "4. hasbsmt: whether there is a basement.\n",
    "5. hasfireplace: whether there is a fireplace."
   ]
  },
  {
   "cell_type": "code",
   "execution_count": 15,
   "id": "b2bc0951",
   "metadata": {},
   "outputs": [],
   "source": [
    "# Training set\n",
    "train['haspool'] = train['PoolArea'].apply(lambda x: 1 if x > 0 else 0)\n",
    "train['has2ndfloor'] = train['2ndFlrSF'].apply(lambda x: 1 if x > 0 else 0)\n",
    "train['hasgarage'] = train['GarageArea'].apply(lambda x: 1 if x > 0 else 0)\n",
    "train['hasbsmt'] = train['TotalBsmtSF'].apply(lambda x: 1 if x > 0 else 0)\n",
    "train['hasfireplace'] =train['Fireplaces'].apply(lambda x: 1 if x > 0 else 0)\n",
    "# Test set\n",
    "test['haspool'] = test['PoolArea'].apply(lambda x: 1 if x > 0 else 0)\n",
    "test['has2ndfloor'] = test['2ndFlrSF'].apply(lambda x: 1 if x > 0 else 0)\n",
    "test['hasgarage'] = test['GarageArea'].apply(lambda x: 1 if x > 0 else 0)\n",
    "test['hasbsmt'] = test['TotalBsmtSF'].apply(lambda x: 1 if x > 0 else 0)\n",
    "test['hasfireplace'] = test['Fireplaces'].apply(lambda x: 1 if x > 0 else 0)"
   ]
  },
  {
   "cell_type": "markdown",
   "id": "c36eb5ac",
   "metadata": {},
   "source": [
    "We now drop the variable out of which the new featues were created.\n"
   ]
  },
  {
   "cell_type": "code",
   "execution_count": 16,
   "id": "164bc0f9",
   "metadata": {},
   "outputs": [],
   "source": [
    "# Training set\n",
    "train.drop(columns = ['TotalBsmtSF', '1stFlrSF', '2ndFlrSF', 'BsmtFinSF1', 'BsmtFinSF2', 'FullBath', 'HalfBath', \n",
    "                        'BsmtFullBath', 'BsmtHalfBath', 'OpenPorchSF', '3SsnPorch', 'EnclosedPorch', \n",
    "                        'ScreenPorch', 'WoodDeckSF', 'YearBuilt', 'YearRemodAdd', 'PoolArea', '2ndFlrSF',\n",
    "                       'GarageArea', 'Fireplaces', 'BedroomAbvGr'], inplace = True)\n",
    "\n",
    "# Test set\n",
    "test.drop(columns = ['TotalBsmtSF', '1stFlrSF', '2ndFlrSF', 'BsmtFinSF1', 'BsmtFinSF2', 'FullBath', 'HalfBath', \n",
    "                        'BsmtFullBath', 'BsmtHalfBath', 'OpenPorchSF', '3SsnPorch', 'EnclosedPorch', \n",
    "                        'ScreenPorch', 'WoodDeckSF', 'YearBuilt', 'YearRemodAdd', 'PoolArea', '2ndFlrSF',\n",
    "                       'GarageArea', 'Fireplaces', 'BedroomAbvGr'], inplace = True)\n"
   ]
  },
  {
   "cell_type": "code",
   "execution_count": 17,
   "id": "171b682e",
   "metadata": {},
   "outputs": [
    {
     "data": {
      "image/png": "[encoded data removed]",
      "text/plain": [
       "<Figure size 1224x864 with 2 Axes>"
      ]
     },
     "metadata": {},
     "output_type": "display_data"
    }
   ],
   "source": [
    "corr_df = train[list(train.select_dtypes(['number']).columns)].drop(\"SalePrice\",1)\n",
    "corr_df[\"SalePrice\"] = train[\"SalePrice\"]\n",
    "corr_df = corr_df.corr()\n",
    "## Plot fig sizing. \n",
    "style.use('ggplot')\n",
    "sns.set_style('whitegrid')\n",
    "plt.subplots(figsize = (17,12))\n",
    "## Plotting heatmap. \n",
    "\n",
    "# Generate a mask for the upper triangle (taken from seaborn example gallery)\n",
    "mask = np.zeros_like(corr_df, dtype=np.bool)\n",
    "mask[np.triu_indices_from(mask)] = True\n",
    "\n",
    "\n",
    "sns.heatmap(corr_df, \n",
    "            cmap=sns.diverging_palette(20, 220, n=200), \n",
    "            mask = mask, \n",
    "            annot=True, \n",
    "            center = 0,\n",
    "           );\n",
    "## Give title. \n",
    "plt.title(\"Heatmap of the Continous Features\", fontsize = 30);"
   ]
  },
  {
   "cell_type": "markdown",
   "id": "e2aeeacf",
   "metadata": {},
   "source": [
    "# Outlier detection"
   ]
  },
  {
   "cell_type": "code",
   "execution_count": 18,
   "id": "26b53631",
   "metadata": {},
   "outputs": [
    {
     "name": "stdout",
     "output_type": "stream",
     "text": [
      "The index of the outlier (maximum value) is 1298\n",
      "The value of the outlier is 11752\n"
     ]
    },
    {
     "data": {
      "image/png": "[encoded data removed]",
      "text/plain": [
       "<Figure size 432x288 with 1 Axes>"
      ]
     },
     "metadata": {},
     "output_type": "display_data"
    }
   ],
   "source": [
    "sns.scatterplot(x = 'TotalSF', y = 'SalePrice', data = train)\n",
    "outlier_index = train.TotalSF.idxmax()\n",
    "print('The index of the outlier (maximum value) is {}'.format(outlier_index))\n",
    "print('The value of the outlier is {}'.format(train['TotalSF'].iloc[outlier_index, ]))"
   ]
  },
  {
   "cell_type": "code",
   "execution_count": 19,
   "id": "6780a38d",
   "metadata": {},
   "outputs": [
    {
     "name": "stdout",
     "output_type": "stream",
     "text": [
      "Number of times an observation is classified as an outlier:\n",
      "  \n",
      "Nº       Index\n",
      "7        1298\n",
      "6        1182\n",
      "5        523\n",
      "4        197\n",
      "4        1169\n",
      "4        691\n",
      "4        635\n",
      "4        705\n",
      "3        769\n",
      "3        17\n",
      "3        39\n",
      "3        520\n",
      "3        921\n",
      "3        1011\n",
      "3        1386\n",
      "2        171\n",
      "2        313\n",
      "2        934\n",
      "2        1337\n",
      "2        249\n",
      "2        335\n",
      "2        529\n",
      "2        943\n",
      "2        375\n",
      "2        178\n"
     ]
    }
   ],
   "source": [
    "def outlier_detection(feature): \n",
    "    sorted(feature) \n",
    "    q1,q3 = np.percentile(feature , [25,75]) \n",
    "    IQR = q3 - q1 \n",
    "    lower_range = q1 - (3 * IQR) \n",
    "    upper_range = q3 + (3 * IQR) \n",
    "    return lower_range,upper_range\n",
    "\n",
    "# Apply the function above to all numerical variables in the dataframe. Outliers found for every variable will be stored\n",
    "# in a list and then append it to a nested list that contains all of the outlier´s indexes (so one list per variable within\n",
    "# the nested list).\n",
    "num_features = train.select_dtypes(include = ['number']).columns\n",
    "outliers = {}\n",
    "list_outliers = []\n",
    "for feature in num_features:\n",
    "    outlier_detection(train[feature])\n",
    "    lower_range, upper_range = outlier_detection(train[feature])\n",
    "    overall_qual_drop = train[(train[feature] < lower_range) | (train[feature] > upper_range)]\n",
    "    outliers[feature] = list(overall_qual_drop.index)\n",
    "    list_outliers.append(list(overall_qual_drop.index))\n",
    "\n",
    "# Flatten the nested list so that we have a list with all the outliers´ indexes detected for each variable.\n",
    "flat_list = []\n",
    "for sublist in list_outliers:\n",
    "    for item in sublist:\n",
    "        flat_list.append(item)\n",
    "\n",
    "# Create a dictinary with the counts of every outlier, so that we know how many times a single observation has been \n",
    "# classified as an outlier. We then sort the dictionary by descending order.\n",
    "repeated_outliers = {i: flat_list.count(i) for i in flat_list}\n",
    "repeated_outliers = sorted(repeated_outliers.items(), key = lambda x: x[1], reverse = True)\n",
    "\n",
    "# We plot the output:\n",
    "print('Number of times an observation is classified as an outlier:')\n",
    "print('  ')\n",
    "print('Nº       Index')\n",
    "for index, outliers in repeated_outliers[0:25]:\n",
    "    print('{}        {}'.format(outliers, index))\n",
    "    \n",
    "    \n",
    "    "
   ]
  },
  {
   "cell_type": "code",
   "execution_count": 20,
   "id": "ea6fc791",
   "metadata": {},
   "outputs": [
    {
     "name": "stdout",
     "output_type": "stream",
     "text": [
      "The outliers to be removed from the dataframe are [1298, 1182, 523, 197, 1169, 691]\n"
     ]
    }
   ],
   "source": [
    "outlier_index = []\n",
    "for i in range(0,6):\n",
    "    outlier_index.append(repeated_outliers[i][0])\n",
    "print('The outliers to be removed from the dataframe are {}'.format(outlier_index))"
   ]
  },
  {
   "cell_type": "code",
   "execution_count": 21,
   "id": "f348a74b",
   "metadata": {},
   "outputs": [
    {
     "data": {
      "image/png": "[encoded data removed]",
      "text/plain": [
       "<Figure size 600x500 with 1 Axes>"
      ]
     },
     "metadata": {},
     "output_type": "display_data"
    },
    {
     "data": {
      "text/plain": [
       "<AxesSubplot:title={'center':\"Cook's Distance Outlier Detection\"}, xlabel='instance index', ylabel='influence (I)'>"
      ]
     },
     "execution_count": 21,
     "metadata": {},
     "output_type": "execute_result"
    }
   ],
   "source": [
    "from yellowbrick.base import Visualizer\n",
    "from yellowbrick.regressor import CooksDistance\n",
    "visualizer = CooksDistance(size = (600, 500))\n",
    "z = train.select_dtypes(include = ['int64', 'float64'])\n",
    "visualizer.fit(z, train[\"SalePrice\"])\n",
    "visualizer.poof() \n"
   ]
  },
  {
   "cell_type": "code",
   "execution_count": 22,
   "id": "996034fe",
   "metadata": {},
   "outputs": [],
   "source": [
    "outliers = visualizer.distance_ >= visualizer.influence_threshold_\n",
    "outliers = list(outliers[outliers == True].index)\n",
    "\n",
    "outlier = []\n",
    "for i in range(1,len(outliers)):\n",
    "    if outliers[i] in outlier_index:\n",
    "               outlier.append(outliers[i])\n",
    "\n",
    "train.drop(index = outliers, inplace = True)\n"
   ]
  },
  {
   "cell_type": "code",
   "execution_count": 23,
   "id": "3a30784b",
   "metadata": {},
   "outputs": [
    {
     "data": {
      "image/png": "[encoded data removed]",
      "text/plain": [
       "<Figure size 600x500 with 1 Axes>"
      ]
     },
     "metadata": {},
     "output_type": "display_data"
    },
    {
     "data": {
      "text/plain": [
       "<AxesSubplot:title={'center':\"Cook's Distance Outlier Detection\"}, xlabel='instance index', ylabel='influence (I)'>"
      ]
     },
     "execution_count": 23,
     "metadata": {},
     "output_type": "execute_result"
    }
   ],
   "source": [
    "visualizer = CooksDistance(size = (600, 500))\n",
    "z = train.select_dtypes(include = ['int64', 'float64'])\n",
    "visualizer.fit(z, train[\"SalePrice\"])\n",
    "visualizer.poof() \n",
    "\n"
   ]
  },
  {
   "cell_type": "code",
   "execution_count": null,
   "id": "10f94dbd",
   "metadata": {},
   "outputs": [],
   "source": []
  },
  {
   "cell_type": "code",
   "execution_count": null,
   "id": "9efcef8b",
   "metadata": {},
   "outputs": [],
   "source": []
  },
  {
   "cell_type": "code",
   "execution_count": null,
   "id": "5fe6b3fc",
   "metadata": {},
   "outputs": [],
   "source": []
  },
  {
   "cell_type": "code",
   "execution_count": 24,
   "id": "ac0b0cb7",
   "metadata": {},
   "outputs": [],
   "source": [
    "from sklearn.preprocessing import PowerTransformer\n",
    "\n",
    "pt = PowerTransformer(method = 'yeo-johnson')\n",
    "\n",
    "for feature in ['BsmtUnfSF','LotArea','LotFrontage', 'MasVnrArea', 'MiscVal', 'MoSold', 'OverallCond', \n",
    "                'OverallQual', 'TotRmsAbvGrd','Total_porch_sf', 'YrBltAndRemod', 'YrSold', 'GrLivArea', \n",
    "                'TotalSF', 'Total_Bathrooms', 'MSSubClass']:\n",
    "    train[feature] = pt.fit_transform(train[feature].to_numpy().reshape(-1,1))\n",
    "    \n",
    "    \n",
    "    \n",
    "    "
   ]
  },
  {
   "cell_type": "code",
   "execution_count": 25,
   "id": "37deb6af",
   "metadata": {},
   "outputs": [
    {
     "data": {
      "image/png": "[encoded data removed]",
      "text/plain": [
       "<Figure size 1440x1080 with 25 Axes>"
      ]
     },
     "metadata": {},
     "output_type": "display_data"
    }
   ],
   "source": [
    "train.select_dtypes(include = ['int64', 'float64']).hist(bins = 50, figsize = (20,15))\n",
    "plt.show()"
   ]
  },
  {
   "cell_type": "code",
   "execution_count": null,
   "id": "114b91d9",
   "metadata": {},
   "outputs": [],
   "source": []
  },
  {
   "cell_type": "code",
   "execution_count": null,
   "id": "430067f6",
   "metadata": {},
   "outputs": [],
   "source": []
  },
  {
   "cell_type": "code",
   "execution_count": 26,
   "id": "be8539be",
   "metadata": {},
   "outputs": [
    {
     "data": {
      "text/html": [
       "<div>\n",
       "<style scoped>\n",
       "    .dataframe tbody tr th:only-of-type {\n",
       "        vertical-align: middle;\n",
       "    }\n",
       "\n",
       "    .dataframe tbody tr th {\n",
       "        vertical-align: top;\n",
       "    }\n",
       "\n",
       "    .dataframe thead th {\n",
       "        text-align: right;\n",
       "    }\n",
       "</style>\n",
       "<table border=\"1\" class=\"dataframe\">\n",
       "  <thead>\n",
       "    <tr style=\"text-align: right;\">\n",
       "      <th></th>\n",
       "      <th>MSSubClass</th>\n",
       "      <th>LotFrontage</th>\n",
       "      <th>LotArea</th>\n",
       "      <th>OverallQual</th>\n",
       "      <th>OverallCond</th>\n",
       "      <th>MasVnrArea</th>\n",
       "      <th>BsmtUnfSF</th>\n",
       "      <th>LowQualFinSF</th>\n",
       "      <th>GrLivArea</th>\n",
       "      <th>KitchenAbvGr</th>\n",
       "      <th>...</th>\n",
       "      <th>SaleType_ConLI</th>\n",
       "      <th>SaleType_ConLw</th>\n",
       "      <th>SaleType_New</th>\n",
       "      <th>SaleType_Oth</th>\n",
       "      <th>SaleType_WD</th>\n",
       "      <th>SaleCondition_AdjLand</th>\n",
       "      <th>SaleCondition_Alloca</th>\n",
       "      <th>SaleCondition_Family</th>\n",
       "      <th>SaleCondition_Normal</th>\n",
       "      <th>SaleCondition_Partial</th>\n",
       "    </tr>\n",
       "  </thead>\n",
       "  <tbody>\n",
       "    <tr>\n",
       "      <th>0</th>\n",
       "      <td>0.488760</td>\n",
       "      <td>-0.164375</td>\n",
       "      <td>-0.159440</td>\n",
       "      <td>0.774175</td>\n",
       "      <td>-0.504858</td>\n",
       "      <td>1.249994</td>\n",
       "      <td>-0.890837</td>\n",
       "      <td>0</td>\n",
       "      <td>0.609985</td>\n",
       "      <td>1</td>\n",
       "      <td>...</td>\n",
       "      <td>0</td>\n",
       "      <td>0</td>\n",
       "      <td>0</td>\n",
       "      <td>0</td>\n",
       "      <td>1</td>\n",
       "      <td>0</td>\n",
       "      <td>0</td>\n",
       "      <td>0</td>\n",
       "      <td>1</td>\n",
       "      <td>0</td>\n",
       "    </tr>\n",
       "    <tr>\n",
       "      <th>1</th>\n",
       "      <td>-1.159642</td>\n",
       "      <td>0.564591</td>\n",
       "      <td>0.111367</td>\n",
       "      <td>0.005687</td>\n",
       "      <td>1.950483</td>\n",
       "      <td>-0.813999</td>\n",
       "      <td>-0.433510</td>\n",
       "      <td>0</td>\n",
       "      <td>-0.361367</td>\n",
       "      <td>1</td>\n",
       "      <td>...</td>\n",
       "      <td>0</td>\n",
       "      <td>0</td>\n",
       "      <td>0</td>\n",
       "      <td>0</td>\n",
       "      <td>1</td>\n",
       "      <td>0</td>\n",
       "      <td>0</td>\n",
       "      <td>0</td>\n",
       "      <td>1</td>\n",
       "      <td>0</td>\n",
       "    </tr>\n",
       "    <tr>\n",
       "      <th>2</th>\n",
       "      <td>0.488760</td>\n",
       "      <td>-0.014136</td>\n",
       "      <td>0.460273</td>\n",
       "      <td>0.774175</td>\n",
       "      <td>-0.504858</td>\n",
       "      <td>1.213847</td>\n",
       "      <td>-0.042306</td>\n",
       "      <td>0</td>\n",
       "      <td>0.750369</td>\n",
       "      <td>1</td>\n",
       "      <td>...</td>\n",
       "      <td>0</td>\n",
       "      <td>0</td>\n",
       "      <td>0</td>\n",
       "      <td>0</td>\n",
       "      <td>1</td>\n",
       "      <td>0</td>\n",
       "      <td>0</td>\n",
       "      <td>0</td>\n",
       "      <td>1</td>\n",
       "      <td>0</td>\n",
       "    </tr>\n",
       "    <tr>\n",
       "      <th>3</th>\n",
       "      <td>0.692627</td>\n",
       "      <td>-0.420398</td>\n",
       "      <td>0.100114</td>\n",
       "      <td>0.774175</td>\n",
       "      <td>-0.504858</td>\n",
       "      <td>-0.813999</td>\n",
       "      <td>0.192547</td>\n",
       "      <td>0</td>\n",
       "      <td>0.623159</td>\n",
       "      <td>1</td>\n",
       "      <td>...</td>\n",
       "      <td>0</td>\n",
       "      <td>0</td>\n",
       "      <td>0</td>\n",
       "      <td>0</td>\n",
       "      <td>1</td>\n",
       "      <td>0</td>\n",
       "      <td>0</td>\n",
       "      <td>0</td>\n",
       "      <td>0</td>\n",
       "      <td>0</td>\n",
       "    </tr>\n",
       "    <tr>\n",
       "      <th>4</th>\n",
       "      <td>0.488760</td>\n",
       "      <td>0.750456</td>\n",
       "      <td>1.008362</td>\n",
       "      <td>1.502639</td>\n",
       "      <td>-0.504858</td>\n",
       "      <td>1.350096</td>\n",
       "      <td>0.085082</td>\n",
       "      <td>0</td>\n",
       "      <td>1.425151</td>\n",
       "      <td>1</td>\n",
       "      <td>...</td>\n",
       "      <td>0</td>\n",
       "      <td>0</td>\n",
       "      <td>0</td>\n",
       "      <td>0</td>\n",
       "      <td>1</td>\n",
       "      <td>0</td>\n",
       "      <td>0</td>\n",
       "      <td>0</td>\n",
       "      <td>1</td>\n",
       "      <td>0</td>\n",
       "    </tr>\n",
       "    <tr>\n",
       "      <th>...</th>\n",
       "      <td>...</td>\n",
       "      <td>...</td>\n",
       "      <td>...</td>\n",
       "      <td>...</td>\n",
       "      <td>...</td>\n",
       "      <td>...</td>\n",
       "      <td>...</td>\n",
       "      <td>...</td>\n",
       "      <td>...</td>\n",
       "      <td>...</td>\n",
       "      <td>...</td>\n",
       "      <td>...</td>\n",
       "      <td>...</td>\n",
       "      <td>...</td>\n",
       "      <td>...</td>\n",
       "      <td>...</td>\n",
       "      <td>...</td>\n",
       "      <td>...</td>\n",
       "      <td>...</td>\n",
       "      <td>...</td>\n",
       "      <td>...</td>\n",
       "    </tr>\n",
       "    <tr>\n",
       "      <th>1455</th>\n",
       "      <td>0.488760</td>\n",
       "      <td>-0.317109</td>\n",
       "      <td>-0.294421</td>\n",
       "      <td>0.005687</td>\n",
       "      <td>-0.504858</td>\n",
       "      <td>-0.813999</td>\n",
       "      <td>0.931496</td>\n",
       "      <td>0</td>\n",
       "      <td>0.489072</td>\n",
       "      <td>1</td>\n",
       "      <td>...</td>\n",
       "      <td>0</td>\n",
       "      <td>0</td>\n",
       "      <td>0</td>\n",
       "      <td>0</td>\n",
       "      <td>1</td>\n",
       "      <td>0</td>\n",
       "      <td>0</td>\n",
       "      <td>0</td>\n",
       "      <td>1</td>\n",
       "      <td>0</td>\n",
       "    </tr>\n",
       "    <tr>\n",
       "      <th>1456</th>\n",
       "      <td>-1.159642</td>\n",
       "      <td>0.796423</td>\n",
       "      <td>0.821789</td>\n",
       "      <td>0.005687</td>\n",
       "      <td>0.473416</td>\n",
       "      <td>1.151627</td>\n",
       "      <td>0.292940</td>\n",
       "      <td>0</td>\n",
       "      <td>1.234023</td>\n",
       "      <td>1</td>\n",
       "      <td>...</td>\n",
       "      <td>0</td>\n",
       "      <td>0</td>\n",
       "      <td>0</td>\n",
       "      <td>0</td>\n",
       "      <td>1</td>\n",
       "      <td>0</td>\n",
       "      <td>0</td>\n",
       "      <td>0</td>\n",
       "      <td>1</td>\n",
       "      <td>0</td>\n",
       "    </tr>\n",
       "    <tr>\n",
       "      <th>1457</th>\n",
       "      <td>0.692627</td>\n",
       "      <td>-0.114026</td>\n",
       "      <td>-0.016804</td>\n",
       "      <td>0.774175</td>\n",
       "      <td>2.528995</td>\n",
       "      <td>-0.813999</td>\n",
       "      <td>0.810444</td>\n",
       "      <td>0</td>\n",
       "      <td>1.630193</td>\n",
       "      <td>1</td>\n",
       "      <td>...</td>\n",
       "      <td>0</td>\n",
       "      <td>0</td>\n",
       "      <td>0</td>\n",
       "      <td>0</td>\n",
       "      <td>1</td>\n",
       "      <td>0</td>\n",
       "      <td>0</td>\n",
       "      <td>0</td>\n",
       "      <td>1</td>\n",
       "      <td>0</td>\n",
       "    </tr>\n",
       "    <tr>\n",
       "      <th>1458</th>\n",
       "      <td>-1.159642</td>\n",
       "      <td>-0.014136</td>\n",
       "      <td>0.137530</td>\n",
       "      <td>-0.811289</td>\n",
       "      <td>0.473416</td>\n",
       "      <td>-0.813999</td>\n",
       "      <td>-2.062742</td>\n",
       "      <td>0</td>\n",
       "      <td>-0.858813</td>\n",
       "      <td>1</td>\n",
       "      <td>...</td>\n",
       "      <td>0</td>\n",
       "      <td>0</td>\n",
       "      <td>0</td>\n",
       "      <td>0</td>\n",
       "      <td>1</td>\n",
       "      <td>0</td>\n",
       "      <td>0</td>\n",
       "      <td>0</td>\n",
       "      <td>1</td>\n",
       "      <td>0</td>\n",
       "    </tr>\n",
       "    <tr>\n",
       "      <th>1459</th>\n",
       "      <td>-1.159642</td>\n",
       "      <td>0.327512</td>\n",
       "      <td>0.186092</td>\n",
       "      <td>-0.811289</td>\n",
       "      <td>0.473416</td>\n",
       "      <td>-0.813999</td>\n",
       "      <td>-0.949417</td>\n",
       "      <td>0</td>\n",
       "      <td>-0.376474</td>\n",
       "      <td>1</td>\n",
       "      <td>...</td>\n",
       "      <td>0</td>\n",
       "      <td>0</td>\n",
       "      <td>0</td>\n",
       "      <td>0</td>\n",
       "      <td>1</td>\n",
       "      <td>0</td>\n",
       "      <td>0</td>\n",
       "      <td>0</td>\n",
       "      <td>1</td>\n",
       "      <td>0</td>\n",
       "    </tr>\n",
       "  </tbody>\n",
       "</table>\n",
       "<p>1372 rows × 339 columns</p>\n",
       "</div>"
      ],
      "text/plain": [
       "      MSSubClass  LotFrontage   LotArea  OverallQual  OverallCond  MasVnrArea  \\\n",
       "0       0.488760    -0.164375 -0.159440     0.774175    -0.504858    1.249994   \n",
       "1      -1.159642     0.564591  0.111367     0.005687     1.950483   -0.813999   \n",
       "2       0.488760    -0.014136  0.460273     0.774175    -0.504858    1.213847   \n",
       "3       0.692627    -0.420398  0.100114     0.774175    -0.504858   -0.813999   \n",
       "4       0.488760     0.750456  1.008362     1.502639    -0.504858    1.350096   \n",
       "...          ...          ...       ...          ...          ...         ...   \n",
       "1455    0.488760    -0.317109 -0.294421     0.005687    -0.504858   -0.813999   \n",
       "1456   -1.159642     0.796423  0.821789     0.005687     0.473416    1.151627   \n",
       "1457    0.692627    -0.114026 -0.016804     0.774175     2.528995   -0.813999   \n",
       "1458   -1.159642    -0.014136  0.137530    -0.811289     0.473416   -0.813999   \n",
       "1459   -1.159642     0.327512  0.186092    -0.811289     0.473416   -0.813999   \n",
       "\n",
       "      BsmtUnfSF  LowQualFinSF  GrLivArea  KitchenAbvGr  ...  SaleType_ConLI  \\\n",
       "0     -0.890837             0   0.609985             1  ...               0   \n",
       "1     -0.433510             0  -0.361367             1  ...               0   \n",
       "2     -0.042306             0   0.750369             1  ...               0   \n",
       "3      0.192547             0   0.623159             1  ...               0   \n",
       "4      0.085082             0   1.425151             1  ...               0   \n",
       "...         ...           ...        ...           ...  ...             ...   \n",
       "1455   0.931496             0   0.489072             1  ...               0   \n",
       "1456   0.292940             0   1.234023             1  ...               0   \n",
       "1457   0.810444             0   1.630193             1  ...               0   \n",
       "1458  -2.062742             0  -0.858813             1  ...               0   \n",
       "1459  -0.949417             0  -0.376474             1  ...               0   \n",
       "\n",
       "      SaleType_ConLw  SaleType_New  SaleType_Oth  SaleType_WD  \\\n",
       "0                  0             0             0            1   \n",
       "1                  0             0             0            1   \n",
       "2                  0             0             0            1   \n",
       "3                  0             0             0            1   \n",
       "4                  0             0             0            1   \n",
       "...              ...           ...           ...          ...   \n",
       "1455               0             0             0            1   \n",
       "1456               0             0             0            1   \n",
       "1457               0             0             0            1   \n",
       "1458               0             0             0            1   \n",
       "1459               0             0             0            1   \n",
       "\n",
       "      SaleCondition_AdjLand  SaleCondition_Alloca  SaleCondition_Family  \\\n",
       "0                         0                     0                     0   \n",
       "1                         0                     0                     0   \n",
       "2                         0                     0                     0   \n",
       "3                         0                     0                     0   \n",
       "4                         0                     0                     0   \n",
       "...                     ...                   ...                   ...   \n",
       "1455                      0                     0                     0   \n",
       "1456                      0                     0                     0   \n",
       "1457                      0                     0                     0   \n",
       "1458                      0                     0                     0   \n",
       "1459                      0                     0                     0   \n",
       "\n",
       "      SaleCondition_Normal  SaleCondition_Partial  \n",
       "0                        1                      0  \n",
       "1                        1                      0  \n",
       "2                        1                      0  \n",
       "3                        0                      0  \n",
       "4                        1                      0  \n",
       "...                    ...                    ...  \n",
       "1455                     1                      0  \n",
       "1456                     1                      0  \n",
       "1457                     1                      0  \n",
       "1458                     1                      0  \n",
       "1459                     1                      0  \n",
       "\n",
       "[1372 rows x 339 columns]"
      ]
     },
     "execution_count": 26,
     "metadata": {},
     "output_type": "execute_result"
    }
   ],
   "source": [
    "train_index = train.index\n",
    "\n",
    "\n",
    "\n",
    "for feature in train.select_dtypes(exclude = 'number'):\n",
    "    train[feature] = train[feature].apply(lambda x: str(x))\n",
    "\n",
    "x = pd.get_dummies(train, drop_first = True).copy()\n",
    "\n",
    "\n",
    "train = x.loc[train_index]\n",
    "train"
   ]
  },
  {
   "cell_type": "code",
   "execution_count": null,
   "id": "e610b96e",
   "metadata": {},
   "outputs": [],
   "source": []
  },
  {
   "cell_type": "code",
   "execution_count": null,
   "id": "3f399378",
   "metadata": {},
   "outputs": [],
   "source": []
  },
  {
   "cell_type": "code",
   "execution_count": 27,
   "id": "8eb29eaf",
   "metadata": {},
   "outputs": [
    {
     "data": {
      "text/plain": [
       "0       208500\n",
       "1       181500\n",
       "2       223500\n",
       "3       140000\n",
       "4       250000\n",
       "         ...  \n",
       "1455    175000\n",
       "1456    210000\n",
       "1457    266500\n",
       "1458    142125\n",
       "1459    147500\n",
       "Name: SalePrice, Length: 1372, dtype: int64"
      ]
     },
     "execution_count": 27,
     "metadata": {},
     "output_type": "execute_result"
    }
   ],
   "source": [
    "train[\"SalePrice\"]"
   ]
  },
  {
   "cell_type": "code",
   "execution_count": 28,
   "id": "fff5341b",
   "metadata": {},
   "outputs": [
    {
     "data": {
      "text/plain": [
       "<AxesSubplot:>"
      ]
     },
     "execution_count": 28,
     "metadata": {},
     "output_type": "execute_result"
    },
    {
     "data": {
      "image/png": "[encoded data removed]",
      "text/plain": [
       "<Figure size 576x396 with 1 Axes>"
      ]
     },
     "metadata": {},
     "output_type": "display_data"
    }
   ],
   "source": [
    "# We apply the logarithmic transformation.\n",
    "train[\"SalePrice\"] = np.log1p(train[\"SalePrice\"])\n",
    "\n",
    "# We check the new dependent variable´s distribution.\n",
    "train[\"SalePrice\"].hist() "
   ]
  },
  {
   "cell_type": "code",
   "execution_count": null,
   "id": "aac5b846",
   "metadata": {},
   "outputs": [],
   "source": []
  },
  {
   "cell_type": "code",
   "execution_count": null,
   "id": "f927cb71",
   "metadata": {},
   "outputs": [],
   "source": []
  },
  {
   "cell_type": "code",
   "execution_count": null,
   "id": "c719eb47",
   "metadata": {},
   "outputs": [],
   "source": []
  },
  {
   "cell_type": "code",
   "execution_count": null,
   "id": "bfd1c775",
   "metadata": {},
   "outputs": [],
   "source": []
  },
  {
   "cell_type": "code",
   "execution_count": 29,
   "id": "45c06cb5",
   "metadata": {
    "scrolled": false
   },
   "outputs": [
    {
     "name": "stdout",
     "output_type": "stream",
     "text": [
      "Training set R-squared is 0.9443814765995338\n",
      "Testing set R-squared is 0.9168890510128359\n"
     ]
    }
   ],
   "source": [
    "from sklearn.model_selection import train_test_split\n",
    "from sklearn.linear_model import LinearRegression\n",
    "\n",
    "\n",
    "x_train, x_test, y_train, y_test = train_test_split(train.loc[:,train.columns != 'SalePrice'], train['SalePrice'], test_size=0.2, random_state =564)\n",
    "                                                    \n",
    "\n",
    "\n",
    "# Implement the multiple linear regression model\n",
    "ols = LinearRegression(fit_intercept = True) \n",
    "ols.fit(x_train, y_train)\n",
    "    \n",
    "# Check the model´s performance\n",
    "print('Training set R-squared is {}'.format(ols.score(x_train, y_train)))\n",
    "print('Testing set R-squared is {}'.format(ols.score(x_test, y_test)))\n",
    "\n",
    "\n"
   ]
  },
  {
   "cell_type": "code",
   "execution_count": 30,
   "id": "8b1563d0",
   "metadata": {},
   "outputs": [
    {
     "data": {
      "text/plain": [
       "9.394573338659786"
      ]
     },
     "execution_count": 30,
     "metadata": {},
     "output_type": "execute_result"
    }
   ],
   "source": [
    "ols.intercept_"
   ]
  },
  {
   "cell_type": "code",
   "execution_count": 31,
   "id": "b113df33",
   "metadata": {
    "scrolled": true
   },
   "outputs": [
    {
     "name": "stdout",
     "output_type": "stream",
     "text": [
      "The mean squared error (MSE) is 0.010924875535180767\n",
      "The root mean squared error (RMSE) is 0.10452212940416382\n",
      "The mean absolute error (MAE) is 0.07986679298676405\n"
     ]
    }
   ],
   "source": [
    "prediction = ols.predict(x_test)\n",
    "\n",
    "# Check accuracy with MSE\n",
    "from sklearn.metrics import mean_squared_error\n",
    "print('The mean squared error (MSE) is {}'.format(mean_squared_error(y_test, prediction)))\n",
    "\n",
    "# Check accuracy with RMSE\n",
    "from sklearn.metrics import mean_squared_error\n",
    "from math import sqrt\n",
    "print('The root mean squared error (RMSE) is {}'.format(sqrt(mean_squared_error(y_test, prediction))))\n",
    "\n",
    "# Check the accuracy of the model with the test dataset.\n",
    "from sklearn.metrics import mean_absolute_error\n",
    "print('The mean absolute error (MAE) is {}'.format(mean_absolute_error(y_test, prediction)))\n",
    "\n",
    "\n"
   ]
  },
  {
   "cell_type": "code",
   "execution_count": 32,
   "id": "288767d4",
   "metadata": {},
   "outputs": [
    {
     "name": "stdout",
     "output_type": "stream",
     "text": [
      "Training set R-squared is 0.0\n",
      "Testing set R-squared is -0.00044660751511083063\n",
      "Amount of penalization is 1.0\n"
     ]
    }
   ],
   "source": [
    "from sklearn.linear_model import Lasso\n",
    "\n",
    "lasso = Lasso()\n",
    "lasso.fit(x_train, y_train)\n",
    "\n",
    "# Check the model´s performance.\n",
    "print('Training set R-squared is {}'.format(lasso.score(x_train, y_train)))\n",
    "print('Testing set R-squared is {}'.format(lasso.score(x_test, y_test)))\n",
    "print('Amount of penalization is {}'.format(lasso.alpha))"
   ]
  },
  {
   "cell_type": "code",
   "execution_count": 33,
   "id": "e66bfc86",
   "metadata": {},
   "outputs": [
    {
     "name": "stdout",
     "output_type": "stream",
     "text": [
      "Training set R-squared is 0.8883037325726438\n",
      "Testing set R-squared is 0.9394165376407587\n",
      "Amount of penalization is 0.0009521260685780129\n"
     ]
    }
   ],
   "source": [
    "from sklearn.linear_model import LassoCV\n",
    "\n",
    "\n",
    "cv_lasso = LassoCV(n_alphas = 200, cv = 10, max_iter = 1000, fit_intercept = True) \n",
    "cv_lasso.fit(x_train, y_train)\n",
    "\n",
    "# Check Lasso´s performance and best parameters as outcomes of cross validation.\n",
    "print('Training set R-squared is {}'.format(cv_lasso.score(x_train, y_train)))\n",
    "print('Testing set R-squared is {}'.format(cv_lasso.score(x_test, y_test)))\n",
    "print('Amount of penalization is {}'.format(cv_lasso.alpha_))\n",
    "\n",
    "\n"
   ]
  },
  {
   "cell_type": "code",
   "execution_count": 34,
   "id": "d5d14361",
   "metadata": {},
   "outputs": [
    {
     "name": "stdout",
     "output_type": "stream",
     "text": [
      "The mean squared error (MSE) is 0.007963653331250507\n",
      "The root mean squared error (RMSE) is 0.08923930373580079\n",
      "The mean absolute error (MAE) is 0.07069569540746996\n"
     ]
    }
   ],
   "source": [
    "# Predict SalePrices with the model.\n",
    "prediction_L = cv_lasso.predict(x_test)\n",
    "\n",
    "# Check accuracy with MSE\n",
    "print('The mean squared error (MSE) is {}'.format(mean_squared_error(y_test, prediction_L)))\n",
    "\n",
    "# Check accuracy with RMSE\n",
    "print('The root mean squared error (RMSE) is {}'.format(sqrt(mean_squared_error(y_test, prediction_L))))\n",
    "\n",
    "# Check the accuracy of the model with MAE\n",
    "print('The mean absolute error (MAE) is {}'.format(mean_absolute_error(y_test, prediction_L)))\n",
    "\n",
    "\n"
   ]
  },
  {
   "cell_type": "code",
   "execution_count": 35,
   "id": "f5c94e87",
   "metadata": {},
   "outputs": [
    {
     "name": "stdout",
     "output_type": "stream",
     "text": [
      "Training set R-squared is 0.9310188514119287\n",
      "Testing set R-squared is 0.9333060509103652\n",
      "Amount of penalization is 1.0\n"
     ]
    }
   ],
   "source": [
    "from sklearn.linear_model import Ridge\n",
    "ridge = Ridge()\n",
    "ridge.fit(x_train, y_train)\n",
    "\n",
    "# Check the model´s performance\n",
    "print('Training set R-squared is {}'.format(ridge.score(x_train, y_train)))\n",
    "print('Testing set R-squared is {}'.format(ridge.score(x_test, y_test)))\n",
    "print('Amount of penalization is {}'.format(ridge.alpha))"
   ]
  },
  {
   "cell_type": "code",
   "execution_count": 36,
   "id": "144fe290",
   "metadata": {},
   "outputs": [
    {
     "name": "stdout",
     "output_type": "stream",
     "text": [
      "Training set R-squared is 0.9046041213968513\n",
      "Testing set R-squared is 0.9417380362582334\n",
      "Amount of penalization is 19.0\n"
     ]
    }
   ],
   "source": [
    "from sklearn.linear_model import RidgeCV\n",
    "cv_ridge = RidgeCV(alphas = np.linspace(18, 19, 100), cv = 3, normalize = False, fit_intercept = True)\n",
    "cv_ridge.fit(x_train, y_train)\n",
    "\n",
    "# Check Ridge best parameters as outcomes of cross validation.\n",
    "print('Training set R-squared is {}'.format(cv_ridge.score(x_train, y_train)))\n",
    "print('Testing set R-squared is {}'.format(cv_ridge.score(x_test, y_test)))\n",
    "print('Amount of penalization is {}'.format(cv_ridge.alpha_))"
   ]
  },
  {
   "cell_type": "code",
   "execution_count": 37,
   "id": "db85d9be",
   "metadata": {},
   "outputs": [
    {
     "name": "stdout",
     "output_type": "stream",
     "text": [
      "The mean squared error (MSE) is 0.007658493977879126\n",
      "The root mean squared error (RMSE) is 0.08751282179131882\n",
      "The mean absolute error (MAE) is 0.06915236342854107\n"
     ]
    }
   ],
   "source": [
    "# Predict SalePrices with the model.\n",
    "prediction_R = cv_ridge.predict(x_test)\n",
    "\n",
    "# Check accuracy with MSE\n",
    "print('The mean squared error (MSE) is {}'.format(mean_squared_error(y_test, prediction_R)))\n",
    "\n",
    "# Check accuracy with RMSE\n",
    "print('The root mean squared error (RMSE) is {}'.format(sqrt(mean_squared_error(y_test, prediction_R))))\n",
    "\n",
    "# Check the accuracy of the model with MAE\n",
    "print('The mean absolute error (MAE) is {}'.format(mean_absolute_error(y_test, prediction_R)))\n",
    "\n",
    "\n",
    "\n"
   ]
  },
  {
   "cell_type": "code",
   "execution_count": 95,
   "id": "d6b077cf",
   "metadata": {},
   "outputs": [
    {
     "data": {
      "text/plain": [
       "293314.29726706387"
      ]
     },
     "execution_count": 95,
     "metadata": {},
     "output_type": "execute_result"
    }
   ],
   "source": [
    "e ** 12.589"
   ]
  },
  {
   "cell_type": "code",
   "execution_count": 94,
   "id": "e198da49",
   "metadata": {},
   "outputs": [
    {
     "data": {
      "text/plain": [
       "268337.2865208743"
      ]
     },
     "execution_count": 94,
     "metadata": {},
     "output_type": "execute_result"
    }
   ],
   "source": [
    "e ** 12.5"
   ]
  },
  {
   "cell_type": "code",
   "execution_count": 96,
   "id": "f177226e",
   "metadata": {},
   "outputs": [
    {
     "data": {
      "text/plain": [
       "247954.36596254812"
      ]
     },
     "execution_count": 96,
     "metadata": {},
     "output_type": "execute_result"
    }
   ],
   "source": [
    "e ** 12.421"
   ]
  },
  {
   "cell_type": "code",
   "execution_count": 38,
   "id": "051ec9f6",
   "metadata": {},
   "outputs": [
    {
     "name": "stdout",
     "output_type": "stream",
     "text": [
      "Training set R-squared is 0.0\n",
      "Testing set R-squared is -0.00044660751511083063\n"
     ]
    }
   ],
   "source": [
    "from sklearn.linear_model import ElasticNet\n",
    " \n",
    "# Train the model\n",
    "e_net = ElasticNet(alpha = 1)\n",
    "e_net.fit(x_train, y_train)\n",
    " \n",
    "    \n",
    "print('Training set R-squared is {}'.format(e_net.score(x_train, y_train)))\n",
    "print('Testing set R-squared is {}'.format(e_net.score(x_test, y_test)))\n",
    "# print('Amount of penalization is {}'.format(e_net.alpha_))\n",
    "\n"
   ]
  },
  {
   "cell_type": "code",
   "execution_count": 39,
   "id": "9ea9d921",
   "metadata": {},
   "outputs": [],
   "source": [
    "ElasticNetCV?"
   ]
  },
  {
   "cell_type": "code",
   "execution_count": 40,
   "id": "07f7491b",
   "metadata": {},
   "outputs": [
    {
     "name": "stdout",
     "output_type": "stream",
     "text": [
      "0.001\n",
      "11.66482646769743\n",
      "Training set R-squared is 0.9031527881243874\n",
      "Testing set R-squared is 0.9433865077077737\n"
     ]
    }
   ],
   "source": [
    "alphas = [0.0001, 0.001, 0.01, 0.1, 0.3, 0.5, 0.7, 1]\n",
    "\n",
    "elastic_cv=ElasticNetCV(alphas=alphas, cv=5)\n",
    "model = elastic_cv.fit(x_train, y_train)\n",
    "print(model.alpha_)\n",
    "print(model.intercept_)\n",
    "print('Training set R-squared is {}'.format(elastic_cv.score(x_train, y_train)))\n",
    "print('Testing set R-squared is {}'.format(elastic_cv.score(x_test, y_test)))"
   ]
  },
  {
   "cell_type": "code",
   "execution_count": 49,
   "id": "b8566579",
   "metadata": {},
   "outputs": [
    {
     "name": "stdout",
     "output_type": "stream",
     "text": [
      "The mean squared error (MSE) is 0.1315079998471015\n",
      "The root mean squared error (RMSE) is 0.3626403174594649\n",
      "The mean absolute error (MAE) is 0.2939613825540388\n"
     ]
    }
   ],
   "source": [
    "# calculate the prediction and mean square error\n",
    "prediction_E = e_net.predict(x_test)\n",
    "# mean_squared_error = np.mean((y_pred_elastic - y_test)**2)\n",
    "print('The mean squared error (MSE) is {}'.format(mean_squared_error(y_test, prediction_E)))\n",
    "\n",
    "# Check accuracy with RMSE\n",
    "print('The root mean squared error (RMSE) is {}'.format(sqrt(mean_squared_error(y_test, prediction_E))))\n",
    "\n",
    "# Check the accuracy of the model with MAE\n",
    "print('The mean absolute error (MAE) is {}'.format(mean_absolute_error(y_test, prediction_E)))\n",
    "\n",
    " \n",
    "# e_net_coeff = pd.DataFrame()\n",
    "# e_net_coeff[\"Columns\"] = x_train.columns\n",
    "# e_net_coeff['Coefficient Estimate'] = pd.Series(e_net.coef_)\n",
    "# prediction_E\n",
    "\n"
   ]
  },
  {
   "cell_type": "code",
   "execution_count": 42,
   "id": "d1dc8f11",
   "metadata": {},
   "outputs": [
    {
     "name": "stdout",
     "output_type": "stream",
     "text": [
      "Training set R-squared is 0.0\n",
      "Testing set R-squared is -0.00044660751511083063\n"
     ]
    }
   ],
   "source": [
    "cv_net = ElasticNet(alpha = 1, normalize = False, fit_intercept = True)\n",
    "cv_net.fit(x_train, y_train)\n",
    "\n",
    "print('Training set R-squared is {}'.format(e_net.score(x_train, y_train)))\n",
    "print('Testing set R-squared is {}'.format(e_net.score(x_test, y_test)))\n",
    "\n",
    "\n"
   ]
  },
  {
   "cell_type": "code",
   "execution_count": null,
   "id": "1397cbbf",
   "metadata": {},
   "outputs": [],
   "source": []
  },
  {
   "cell_type": "code",
   "execution_count": 52,
   "id": "ba2450d4",
   "metadata": {},
   "outputs": [
    {
     "data": {
      "text/html": [
       "<div>\n",
       "<style scoped>\n",
       "    .dataframe tbody tr th:only-of-type {\n",
       "        vertical-align: middle;\n",
       "    }\n",
       "\n",
       "    .dataframe tbody tr th {\n",
       "        vertical-align: top;\n",
       "    }\n",
       "\n",
       "    .dataframe thead th {\n",
       "        text-align: right;\n",
       "    }\n",
       "</style>\n",
       "<table border=\"1\" class=\"dataframe\">\n",
       "  <thead>\n",
       "    <tr style=\"text-align: right;\">\n",
       "      <th></th>\n",
       "      <th>Model</th>\n",
       "      <th>Training R^2</th>\n",
       "      <th>Testing R^2</th>\n",
       "      <th>MSE</th>\n",
       "      <th>RMSE</th>\n",
       "      <th>MAE</th>\n",
       "    </tr>\n",
       "  </thead>\n",
       "  <tbody>\n",
       "    <tr>\n",
       "      <th>0</th>\n",
       "      <td>MLR</td>\n",
       "      <td>0.944381</td>\n",
       "      <td>0.916889</td>\n",
       "      <td>0.010925</td>\n",
       "      <td>0.104522</td>\n",
       "      <td>0.079867</td>\n",
       "    </tr>\n",
       "    <tr>\n",
       "      <th>1</th>\n",
       "      <td>Lasso</td>\n",
       "      <td>0.888304</td>\n",
       "      <td>0.939417</td>\n",
       "      <td>0.007964</td>\n",
       "      <td>0.089239</td>\n",
       "      <td>0.079867</td>\n",
       "    </tr>\n",
       "    <tr>\n",
       "      <th>2</th>\n",
       "      <td>Ridge</td>\n",
       "      <td>0.931019</td>\n",
       "      <td>0.933306</td>\n",
       "      <td>0.007658</td>\n",
       "      <td>0.087513</td>\n",
       "      <td>0.069152</td>\n",
       "    </tr>\n",
       "    <tr>\n",
       "      <th>3</th>\n",
       "      <td>Elastic Net</td>\n",
       "      <td>0.903153</td>\n",
       "      <td>0.943387</td>\n",
       "      <td>0.131508</td>\n",
       "      <td>0.362640</td>\n",
       "      <td>0.293961</td>\n",
       "    </tr>\n",
       "  </tbody>\n",
       "</table>\n",
       "</div>"
      ],
      "text/plain": [
       "         Model  Training R^2  Testing R^2       MSE      RMSE       MAE\n",
       "0          MLR      0.944381     0.916889  0.010925  0.104522  0.079867\n",
       "1        Lasso      0.888304     0.939417  0.007964  0.089239  0.079867\n",
       "2        Ridge      0.931019     0.933306  0.007658  0.087513  0.069152\n",
       "3  Elastic Net      0.903153     0.943387  0.131508  0.362640  0.293961"
      ]
     },
     "execution_count": 52,
     "metadata": {},
     "output_type": "execute_result"
    }
   ],
   "source": [
    "list_ = [\n",
    "    [\"MLR\", ols.score(x_train, y_train),ols.score(x_test, y_test), mean_squared_error(y_test, prediction),\n",
    "          sqrt(mean_squared_error(y_test, prediction)), mean_absolute_error(y_test, prediction)],\n",
    "    [\"Lasso\", cv_lasso.score(x_train, y_train), cv_lasso.score(x_test, y_test),\n",
    "     mean_squared_error(y_test, prediction_L),sqrt(mean_squared_error(y_test, prediction_L)),\n",
    "     mean_absolute_error(y_test, prediction)],\n",
    "    [\"Ridge\",ridge.score(x_train, y_train),ridge.score(x_test, y_test),\n",
    "     mean_squared_error(y_test, prediction_R),sqrt(mean_squared_error(y_test, prediction_R)),\n",
    "     mean_absolute_error(y_test, prediction_R)],\n",
    "    [\"Elastic Net\",elastic_cv.score(x_train, y_train),elastic_cv.score(x_test, y_test),\n",
    "     mean_squared_error(y_test, prediction_E),sqrt(mean_squared_error(y_test, prediction_E)),\n",
    "     mean_absolute_error(y_test, prediction_E)\n",
    "    ]\n",
    "]\n",
    "list_             \n",
    "               \n",
    "df_models = pd.DataFrame(list_, columns = ['Model', 'Training R^2', 'Testing R^2', 'MSE', 'RMSE', 'MAE'])               \n",
    "               \n",
    "df_models               \n",
    "               "
   ]
  },
  {
   "cell_type": "code",
   "execution_count": 121,
   "id": "0e8f70b1",
   "metadata": {},
   "outputs": [
    {
     "data": {
      "text/plain": [
       "OrderedDict([('Neighborhood_Edwards', -0.0735428940821041),\n",
       "             ('LotShape_IR3', -0.04751688474571513),\n",
       "             ('Condition2_PosN', -0.04269477180381936),\n",
       "             ('PoolQC_Gd', -0.03844351902944502),\n",
       "             ('KitchenAbvGr', -0.03725782647963783),\n",
       "             ('BldgType_Twnhs', -0.037143702154720876),\n",
       "             ('GarageYrBlt_1965.0', -0.036606254198255625),\n",
       "             ('haspool', -0.035274084439585573),\n",
       "             ('Neighborhood_MeadowV', -0.03487137448872707),\n",
       "             ('BsmtFinType1_Unf', -0.03408838314287919),\n",
       "             ('GarageCond_Fa', -0.03342973612891293),\n",
       "             ('Functional_Maj2', -0.03338691676542923),\n",
       "             ('Neighborhood_OldTown', -0.031256463170892534),\n",
       "             ('Neighborhood_IDOTRR', -0.03088306971257776),\n",
       "             ('KitchenQual_Gd', -0.029356364262143764),\n",
       "             ('Neighborhood_Gilbert', -0.029241160666641466),\n",
       "             ('Exterior1st_Wd Sdng', -0.0284672817145977),\n",
       "             ('HeatingQC_TA', -0.028072652392217748),\n",
       "             ('KitchenQual_TA', -0.026812798620281266),\n",
       "             ('HeatingQC_Gd', -0.026705681573767244),\n",
       "             ('Condition1_RRAe', -0.02484567299983522),\n",
       "             ('GarageYrBlt_1977.0', -0.02416734566326254),\n",
       "             ('LotConfig_FR2', -0.023428882976841033),\n",
       "             ('BsmtQual_TA', -0.022740879039677236),\n",
       "             ('Neighborhood_Mitchel', -0.022511847575782742),\n",
       "             ('KitchenQual_Fa', -0.022300350007404938),\n",
       "             ('GarageYrBlt_1952.0', -0.020881789975812737),\n",
       "             ('MasVnrType_BrkCmn', -0.02076282016034161),\n",
       "             ('GarageFinish_Unf', -0.020300146991367996),\n",
       "             ('GarageYrBlt_1920.0', -0.0200177075465545),\n",
       "             ('GarageYrBlt_2007.0', -0.019844917742346153),\n",
       "             ('MSSubClass', -0.017988907998315148),\n",
       "             ('Neighborhood_Sawyer', -0.017886377139728096),\n",
       "             ('Heating_Grav', -0.017560692399227865),\n",
       "             ('Exterior2nd_Wd Shng', -0.017517442738653143),\n",
       "             ('GarageType_CarPort', -0.01750723234028492),\n",
       "             ('GarageYrBlt_1941.0', -0.017444263368956624),\n",
       "             ('Neighborhood_NAmes', -0.017116879826362494),\n",
       "             ('RoofStyle_Gambrel', -0.017032595443418962),\n",
       "             ('BsmtUnfSF', -0.0167431175352454),\n",
       "             ('ExterCond_Fa', -0.016629218361486377),\n",
       "             ('Exterior1st_Stucco', -0.016135284898233824),\n",
       "             ('GarageYrBlt_1967.0', -0.016096394478998147),\n",
       "             ('SaleCondition_Alloca', -0.016013148223119066),\n",
       "             ('BsmtQual_Gd', -0.015753678606657277),\n",
       "             ('BsmtFinType2_BLQ', -0.015462830012046914),\n",
       "             ('LandSlope_Sev', -0.015280495716814781),\n",
       "             ('GarageYrBlt_1971.0', -0.014434790539029105),\n",
       "             ('Neighborhood_NWAmes', -0.01422528224784431),\n",
       "             ('GarageYrBlt_1973.0', -0.013980760766230603),\n",
       "             ('GarageYrBlt_2002.0', -0.0138541242684807),\n",
       "             ('GarageYrBlt_1992.0', -0.013458720187186935),\n",
       "             ('FireplaceQu_None', -0.013368433530738189),\n",
       "             ('GarageYrBlt_1945.0', -0.013365374329093993),\n",
       "             ('GarageYrBlt_1928.0', -0.013167437182813723),\n",
       "             ('SaleCondition_Family', -0.012859975495807629),\n",
       "             ('GarageYrBlt_1924.0', -0.012821933358355441),\n",
       "             ('GarageYrBlt_1976.0', -0.012515801725171641),\n",
       "             ('MSZoning_RM', -0.012376340872510185),\n",
       "             ('GarageYrBlt_1958.0', -0.012365757504304147),\n",
       "             ('GarageYrBlt_1957.0', -0.012209422543050324),\n",
       "             ('BsmtFinType1_LwQ', -0.01204499801058792),\n",
       "             ('Condition1_Feedr', -0.011980755207855754),\n",
       "             ('GarageYrBlt_1938.0', -0.011886166522062444),\n",
       "             ('Functional_Mod', -0.011876407488844954),\n",
       "             ('BsmtExposure_No', -0.011560988142342108),\n",
       "             ('GarageYrBlt_2004.0', -0.010977352946367131),\n",
       "             ('HouseStyle_2Story', -0.010887326400443945),\n",
       "             ('LotFrontage', -0.010326439910837778),\n",
       "             ('GarageFinish_RFn', -0.01012982869862337),\n",
       "             ('LotConfig_Inside', -0.010081455936894591),\n",
       "             ('GarageQual_Fa', -0.009947426667406393),\n",
       "             ('Neighborhood_CollgCr', -0.009866553756235468),\n",
       "             ('Exterior2nd_BrkFace', -0.009774179447356689),\n",
       "             ('Exterior2nd_Brk Cmn', -0.009654267750679573),\n",
       "             ('GarageYrBlt_1993.0', -0.00964977807131332),\n",
       "             ('Exterior1st_HdBoard', -0.009500741387992019),\n",
       "             ('Functional_Sev', -0.009071413820521847),\n",
       "             ('Utilities_NoSeWa', -0.008950650884477714),\n",
       "             ('GarageYrBlt_1963.0', -0.008642023062437216),\n",
       "             ('GarageYrBlt_1980.0', -0.008407642895009582),\n",
       "             ('FireplaceQu_Po', -0.008155699040539826),\n",
       "             ('GarageYrBlt_1990.0', -0.00802721749804357),\n",
       "             ('FireplaceQu_Fa', -0.007709210880092422),\n",
       "             ('GarageYrBlt_1978.0', -0.007487712049257665),\n",
       "             ('GarageYrBlt_1961.0', -0.007486595420045905),\n",
       "             ('Exterior1st_BrkComm', -0.0074516339927369075),\n",
       "             ('BldgType_2fmCon', -0.00743956983060223),\n",
       "             ('GarageYrBlt_1969.0', -0.0071823762670748656),\n",
       "             ('GarageYrBlt_1970.0', -0.007023110366973284),\n",
       "             ('LotConfig_FR3', -0.006981240974715456),\n",
       "             ('HouseStyle_1Story', -0.00675596905893273),\n",
       "             ('BsmtFinType2_LwQ', -0.006555638008813047),\n",
       "             ('has2ndfloor', -0.0065029716800900726),\n",
       "             ('Exterior2nd_Stucco', -0.0064709819819015486),\n",
       "             ('Neighborhood_SawyerW', -0.006426475555323525),\n",
       "             ('ExterCond_Gd', -0.006134193382562567),\n",
       "             ('RoofStyle_Gable', -0.006096992375186213),\n",
       "             ('GarageYrBlt_1984.0', -0.00606657833016215),\n",
       "             ('HeatingQC_Po', -0.00587972151225774),\n",
       "             ('Fence_MnWw', -0.005868534878064345),\n",
       "             ('Electrical_SBrkr', -0.005780103740389828),\n",
       "             ('YrSold', -0.005778314274244663),\n",
       "             ('SaleType_WD', -0.005752935654418215),\n",
       "             ('GarageYrBlt_1988.0', -0.005268343611132202),\n",
       "             ('Heating_OthW', -0.005211553424726372),\n",
       "             ('RoofStyle_Hip', -0.005174049987318022),\n",
       "             ('GarageYrBlt_1985.0', -0.005041129560521538),\n",
       "             ('ExterQual_TA', -0.005040094966541249),\n",
       "             ('BsmtExposure_None', -0.005006091113128123),\n",
       "             ('BldgType_TwnhsE', -0.004902032483316832),\n",
       "             ('RoofMatl_Tar&Grv', -0.004782621785727136),\n",
       "             ('ExterQual_Fa', -0.004691508105049293),\n",
       "             ('SaleType_ConLI', -0.00462548589776677),\n",
       "             ('Heating_Wall', -0.004535416357361283),\n",
       "             ('Exterior2nd_Plywood', -0.0042436511299121914),\n",
       "             ('Fence_GdWo', -0.004243502803698102),\n",
       "             ('SaleType_ConLw', -0.00408600543376409),\n",
       "             ('Neighborhood_Timber', -0.004013021330228645),\n",
       "             ('Neighborhood_Blueste', -0.003891276136328222),\n",
       "             ('GarageYrBlt_2005.0', -0.0038188961483853682),\n",
       "             ('BsmtQual_Fa', -0.0037940420183759597),\n",
       "             ('GarageYrBlt_2008.0', -0.0036992682716008277),\n",
       "             ('BsmtExposure_Mn', -0.0036034667022544755),\n",
       "             ('GarageYrBlt_1926.0', -0.003389057041842478),\n",
       "             ('GarageType_Basment', -0.0033655905341558596),\n",
       "             ('Neighborhood_NPkVill', -0.003362676338684214),\n",
       "             ('Neighborhood_BrDale', -0.003260326432364372),\n",
       "             ('BsmtFinType2_Rec', -0.003239324373723077),\n",
       "             ('hasgarage', -0.0031955736812483487),\n",
       "             ('Exterior1st_AsphShn', -0.0031517898834128267),\n",
       "             ('GarageYrBlt_1982.0', -0.0029506658834848017),\n",
       "             ('GarageYrBlt_1995.0', -0.0027983886243421576),\n",
       "             ('GarageYrBlt_2003.0', -0.0027367226616529165),\n",
       "             ('GarageYrBlt_1929.0', -0.002699807152300484),\n",
       "             ('GarageYrBlt_1925.0', -0.0026015284343372646),\n",
       "             ('Exterior1st_WdShing', -0.00250061259923736),\n",
       "             ('MiscVal', -0.002374706356749004),\n",
       "             ('Exterior1st_CemntBd', -0.0023541381581331754),\n",
       "             ('GarageYrBlt_1916.0', -0.0023480868800052714),\n",
       "             ('Foundation_Wood', -0.002314954399522577),\n",
       "             ('Exterior2nd_CmentBd', -0.002129262228904195),\n",
       "             ('GarageYrBlt_1999.0', -0.0020624605872120835),\n",
       "             ('Condition2_RRAn', -0.002025549570446094),\n",
       "             ('Condition1_RRNe', -0.0019402349837851468),\n",
       "             ('HouseStyle_2.5Unf', -0.0019202736678062206),\n",
       "             ('GarageYrBlt_1975.0', -0.0018552800488154937),\n",
       "             ('GarageYrBlt_1986.0', -0.0018331826412122975),\n",
       "             ('HouseStyle_2.5Fin', -0.0018021903708313628),\n",
       "             ('GarageQual_Po', -0.0017300021082131477),\n",
       "             ('BsmtFinType1_Rec', -0.0013140631888041555),\n",
       "             ('Foundation_Slab', -0.001267991154616638),\n",
       "             ('GarageYrBlt_1914.0', -0.0011937273830986072),\n",
       "             ('Exterior2nd_AsphShn', -0.0010910951447084475),\n",
       "             ('HouseStyle_1.5Unf', -0.0009948174752527634),\n",
       "             ('BsmtFinType1_None', -0.0009227637406157364),\n",
       "             ('BsmtQual_None', -0.0009227637406156294),\n",
       "             ('BsmtCond_None', -0.0009227637406156247),\n",
       "             ('GarageYrBlt_1906.0', -0.0009033880370988551),\n",
       "             ('BsmtFinType2_None', -0.0008530911016534924),\n",
       "             ('GarageYrBlt_1981.0', -0.0008289571547124018),\n",
       "             ('Exterior1st_ImStucc', -0.0007977574529679407),\n",
       "             ('Exterior2nd_Stone', -0.0006263417247275452),\n",
       "             ('GarageYrBlt_1949.0', -0.0005540339921736292),\n",
       "             ('GarageYrBlt_1915.0', -0.00042815464629437493),\n",
       "             ('GarageQual_TA', -0.00038447720258012773),\n",
       "             ('GarageYrBlt_1968.0', -0.00035216713110305866),\n",
       "             ('LotShape_Reg', -0.000208116315198314),\n",
       "             ('Exterior1st_CBlock', 0.0),\n",
       "             ('Exterior2nd_CBlock', 0.0),\n",
       "             ('GarageYrBlt_1934.0', 0.0),\n",
       "             ('MiscFeature_Othr', 0.0),\n",
       "             ('LowQualFinSF', 4.0523399160042494e-05),\n",
       "             ('BsmtFinType1_BLQ', 0.00026942049030391057),\n",
       "             ('HeatingQC_Fa', 0.0007664123940952409),\n",
       "             ('Electrical_FuseP', 0.0008742670139532278),\n",
       "             ('hasbsmt', 0.0009227637406157063),\n",
       "             ('BldgType_Duplex', 0.0009408669523281704),\n",
       "             ('Fence_None', 0.0010812629006961528),\n",
       "             ('GarageYrBlt_1908.0', 0.0014311614867209054),\n",
       "             ('GarageYrBlt_1933.0', 0.001635017657974454),\n",
       "             ('Alley_Pave', 0.0017897758519228142),\n",
       "             ('Electrical_FuseA', 0.0017999155571277593),\n",
       "             ('Functional_Min1', 0.001839417735394248),\n",
       "             ('Exterior1st_Stone', 0.0019469749994145533),\n",
       "             ('GarageQual_Gd', 0.0019732996468568853),\n",
       "             ('MasVnrArea', 0.0019745857772809883),\n",
       "             ('Exterior2nd_Other', 0.0020336413764867624),\n",
       "             ('Neighborhood_SWISU', 0.0020748091304778208),\n",
       "             ('GarageYrBlt_1983.0', 0.0021969251923608783),\n",
       "             ('HouseStyle_SFoyer', 0.0022484565066706926),\n",
       "             ('Exterior1st_Plywood', 0.0022769952301005324),\n",
       "             ('GarageYrBlt_1953.0', 0.0022984704388452687),\n",
       "             ('GarageYrBlt_1937.0', 0.0023443486380345666),\n",
       "             ('MiscFeature_TenC', 0.002452273188950425),\n",
       "             ('RoofMatl_Roll', 0.00261181530690124),\n",
       "             ('MasVnrType_None', 0.002745325227164927),\n",
       "             ('Exterior1st_MetalSd', 0.00279396998794642),\n",
       "             ('GarageYrBlt_1927.0', 0.00291192640190672),\n",
       "             ('Electrical_FuseF', 0.003105921169308417),\n",
       "             ('GarageYrBlt_1955.0', 0.0031235190863116557),\n",
       "             ('PoolQC_Fa', 0.003169434589859344),\n",
       "             ('GarageYrBlt_None', 0.003195573681247602),\n",
       "             ('GarageFinish_None', 0.003195573681247605),\n",
       "             ('GarageCond_None', 0.003195573681247606),\n",
       "             ('GarageQual_None', 0.0031955736812476075),\n",
       "             ('GarageType_None', 0.003195573681247693),\n",
       "             ('GarageCond_Gd', 0.003258964004920974),\n",
       "             ('GarageYrBlt_1998.0', 0.003321164605381432),\n",
       "             ('MoSold', 0.00337417139261507),\n",
       "             ('GarageYrBlt_1994.0', 0.0034065260946705674),\n",
       "             ('GarageYrBlt_1947.0', 0.0034956083344114576),\n",
       "             ('GarageYrBlt_1946.0', 0.0036268943179789247),\n",
       "             ('RoofMatl_Metal', 0.003647146653087008),\n",
       "             ('Alley_None', 0.0036528498930052723),\n",
       "             ('PavedDrive_P', 0.003659473721149714),\n",
       "             ('Exterior2nd_ImStucc', 0.003706011059272125),\n",
       "             ('Exterior2nd_MetalSd', 0.003712288653104753),\n",
       "             ('BsmtFinType2_GLQ', 0.003966648951217742),\n",
       "             ('GarageCond_Po', 0.004076809090973604),\n",
       "             ('GarageYrBlt_1942.0', 0.004393639447586783),\n",
       "             ('GarageYrBlt_1918.0', 0.004468174271223873),\n",
       "             ('GarageYrBlt_1931.0', 0.004592482299861658),\n",
       "             ('Condition2_Feedr', 0.004602884979554174),\n",
       "             ('MiscFeature_Shed', 0.00481164107792408),\n",
       "             ('RoofMatl_WdShngl', 0.005268468317518122),\n",
       "             ('GarageYrBlt_1996.0', 0.005487962043858581),\n",
       "             ('MasVnrType_BrkFace', 0.005619517171185593),\n",
       "             ('GarageYrBlt_1956.0', 0.005721052913394141),\n",
       "             ('Condition2_RRNn', 0.005831035824761877),\n",
       "             ('GarageYrBlt_1959.0', 0.005962965904177636),\n",
       "             ('RoofMatl_Membran', 0.006219070533756879),\n",
       "             ('GarageYrBlt_1991.0', 0.006309706604751502),\n",
       "             ('GarageType_Detchd', 0.006374956413661504),\n",
       "             ('Functional_Min2', 0.006660106270923245),\n",
       "             ('RoofStyle_Shed', 0.006672660209285019),\n",
       "             ('GarageYrBlt_1960.0', 0.006879475438765089),\n",
       "             ('Condition1_PosN', 0.006885049690308062),\n",
       "             ('GarageYrBlt_1910.0', 0.007195371701632406),\n",
       "             ('LandContour_Low', 0.007374067145133014),\n",
       "             ('GarageYrBlt_1921.0', 0.007438336087868176),\n",
       "             ('LotShape_IR2', 0.007598691556084973),\n",
       "             ('GarageYrBlt_1932.0', 0.007636326529098605),\n",
       "             ('Exterior2nd_VinylSd', 0.007934410216964132),\n",
       "             ('GarageYrBlt_2006.0', 0.007942716975644623),\n",
       "             ('Exterior1st_VinylSd', 0.008003827576695753),\n",
       "             ('GarageYrBlt_2010.0', 0.008134126058364458),\n",
       "             ('Exterior2nd_HdBoard', 0.008192221098168506),\n",
       "             ('GarageYrBlt_1935.0', 0.008372569214861732),\n",
       "             ('Condition1_PosA', 0.008529627304741466),\n",
       "             ('FireplaceQu_TA', 0.008549487417819229),\n",
       "             ('Foundation_CBlock', 0.008664061661046026),\n",
       "             ('Exterior2nd_Wd Sdng', 0.008719086504500642),\n",
       "             ('SaleCondition_AdjLand', 0.00877932987270232),\n",
       "             ('GarageYrBlt_1987.0', 0.008958644597818274),\n",
       "             ('GarageYrBlt_2000.0', 0.00930174168905615),\n",
       "             ('GarageYrBlt_1979.0', 0.009366806023823135),\n",
       "             ('LandContour_HLS', 0.009454739492436054),\n",
       "             ('SaleType_ConLD', 0.009542323932678372),\n",
       "             ('GarageYrBlt_1966.0', 0.009687907837802236),\n",
       "             ('GarageYrBlt_1954.0', 0.009919644244087788),\n",
       "             ('SaleType_Con', 0.009994336250519572),\n",
       "             ('BsmtFinType2_Unf', 0.010064459460169763),\n",
       "             ('Condition1_RRAn', 0.010071062853552115),\n",
       "             ('GarageYrBlt_1972.0', 0.010078588105544177),\n",
       "             ('TotRmsAbvGrd', 0.010154659824952382),\n",
       "             ('BsmtFinType1_GLQ', 0.01035208407774289),\n",
       "             ('GarageType_BuiltIn', 0.010755823895152804),\n",
       "             ('RoofMatl_WdShake', 0.011198454858745087),\n",
       "             ('GarageYrBlt_1989.0', 0.011716539226607578),\n",
       "             ('GarageYrBlt_2001.0', 0.011929957883240045),\n",
       "             ('GarageYrBlt_1948.0', 0.012283295609317912),\n",
       "             ('Fence_MnPrv', 0.012403242573388897),\n",
       "             ('HouseStyle_SLvl', 0.012957550019890351),\n",
       "             ('hasfireplace', 0.013368433530737526),\n",
       "             ('SaleCondition_Partial', 0.013409582113825513),\n",
       "             ('FireplaceQu_Gd', 0.013592138874872362),\n",
       "             ('GarageYrBlt_1930.0', 0.013643696143680651),\n",
       "             ('Foundation_Stone', 0.013853611425816393),\n",
       "             ('GarageType_Attchd', 0.014174758442736623),\n",
       "             ('GarageYrBlt_1951.0', 0.014204214271732615),\n",
       "             ('LandSlope_Mod', 0.014305524628389103),\n",
       "             ('Condition1_RRNn', 0.01440610979393414),\n",
       "             ('GarageYrBlt_1923.0', 0.0146327604758317),\n",
       "             ('RoofStyle_Mansard', 0.01480252684725798),\n",
       "             ('Neighborhood_Veenker', 0.014811074696425485),\n",
       "             ('GarageYrBlt_1950.0', 0.014989676981037831),\n",
       "             ('GarageYrBlt_1940.0', 0.015081299241651419),\n",
       "             ('SaleType_New', 0.015258169075840086),\n",
       "             ('BsmtCond_TA', 0.015724969109607495),\n",
       "             ('MasVnrType_Stone', 0.015914279796112523),\n",
       "             ('GarageCond_TA', 0.016005356701675386),\n",
       "             ('GarageYrBlt_1936.0', 0.016138226579298916),\n",
       "             ('GarageYrBlt_1939.0', 0.01623430334648317),\n",
       "             ('GarageYrBlt_1997.0', 0.016569724074858527),\n",
       "             ('Total_porch_sf', 0.016696327248248575),\n",
       "             ('SaleType_Oth', 0.017677650968674997),\n",
       "             ('Heating_GasW', 0.01804173032458357),\n",
       "             ('SaleType_CWD', 0.01817929636522658),\n",
       "             ('ExterCond_TA', 0.01834646286257112),\n",
       "             ('ExterQual_Gd', 0.018597536829158157),\n",
       "             ('GarageYrBlt_1964.0', 0.018636583730374367),\n",
       "             ('Street_Pave', 0.01878189339246443),\n",
       "             ('GarageYrBlt_1962.0', 0.01950641790435181),\n",
       "             ('GarageYrBlt_1974.0', 0.02047572468326201),\n",
       "             ('LotConfig_CulDSac', 0.021120644140371073),\n",
       "             ('GarageYrBlt_1922.0', 0.02117069147809203),\n",
       "             ('PavedDrive_Y', 0.021658989175046266),\n",
       "             ('LandContour_Lvl', 0.021941260429492467),\n",
       "             ('BsmtCond_Gd', 0.021952472590471294),\n",
       "             ('MSZoning_RH', 0.022336866751770285),\n",
       "             ('GarageYrBlt_2009.0', 0.024348189064545105),\n",
       "             ('Total_Bathrooms', 0.025606305912521995),\n",
       "             ('LotArea', 0.025868060743887443),\n",
       "             ('RoofMatl_CompShg', 0.026532291834485106),\n",
       "             ('Neighborhood_BrkSide', 0.027462438649726733),\n",
       "             ('BsmtExposure_Gd', 0.029114561131402414),\n",
       "             ('Neighborhood_ClearCr', 0.030433612144929505),\n",
       "             ('Neighborhood_NoRidge', 0.03230598639802924),\n",
       "             ('YrBltAndRemod', 0.03454559090276584),\n",
       "             ('Condition2_Norm', 0.035550317884676476),\n",
       "             ('Foundation_PConc', 0.036892586539802714),\n",
       "             ('MSZoning_RL', 0.03733763715704146),\n",
       "             ('Exterior1st_BrkFace', 0.037762378296993686),\n",
       "             ('CentralAir_Y', 0.0384052698581172),\n",
       "             ('Neighborhood_StoneBr', 0.04037388861810593),\n",
       "             ('Neighborhood_Somerst', 0.04269725312347774),\n",
       "             ('OverallCond', 0.04452643329614458),\n",
       "             ('MSZoning_FV', 0.0455933841519982),\n",
       "             ('Neighborhood_NridgHt', 0.048514257665134515),\n",
       "             ('SaleCondition_Normal', 0.04882884439893307),\n",
       "             ('Condition1_Norm', 0.052763411081798425),\n",
       "             ('GarageCars', 0.056379035156085854),\n",
       "             ('GrLivArea', 0.05790256348743617),\n",
       "             ('OverallQual', 0.05790415438944516),\n",
       "             ('Functional_Typ', 0.05791197207361604),\n",
       "             ('TotalSF', 0.06764886604512822),\n",
       "             ('Neighborhood_Crawfor', 0.06866638250494843)])"
      ]
     },
     "execution_count": 121,
     "metadata": {},
     "output_type": "execute_result"
    }
   ],
   "source": [
    "# Create a dictionary with the features and their respective coefficients\n",
    "coef_dict = {}\n",
    "for coef, feature in zip(cv_ridge.coef_, x_train.columns):\n",
    "    coef_dict[feature] = coef\n",
    "\n",
    "# Sort the dictionary by its values to find the most relevant variables    \n",
    "from collections import OrderedDict\n",
    "OrderedDict(sorted(coef_dict.items(), key = lambda x: x[1]))    "
   ]
  },
  {
   "cell_type": "code",
   "execution_count": 79,
   "id": "f6dbf699",
   "metadata": {},
   "outputs": [
    {
     "data": {
      "text/plain": [
       "11.51293546492023"
      ]
     },
     "execution_count": 79,
     "metadata": {},
     "output_type": "execute_result"
    }
   ],
   "source": [
    "np.log1p(100000)\n"
   ]
  },
  {
   "cell_type": "code",
   "execution_count": 74,
   "id": "47852c10",
   "metadata": {},
   "outputs": [
    {
     "data": {
      "text/plain": [
       "890911.1659791596"
      ]
     },
     "execution_count": 74,
     "metadata": {},
     "output_type": "execute_result"
    }
   ],
   "source": [
    "e**13.7"
   ]
  },
  {
   "cell_type": "code",
   "execution_count": 62,
   "id": "6bd9272f",
   "metadata": {},
   "outputs": [
    {
     "data": {
      "text/plain": [
       "2.718281828459045"
      ]
     },
     "execution_count": 62,
     "metadata": {},
     "output_type": "execute_result"
    }
   ],
   "source": []
  }
 ],
 "metadata": {
  "kernelspec": {
   "display_name": "Python 3",
   "language": "python",
   "name": "python3"
  },
  "language_info": {
   "codemirror_mode": {
    "name": "ipython",
    "version": 3
   },
   "file_extension": ".py",
   "mimetype": "text/x-python",
   "name": "python",
   "nbconvert_exporter": "python",
   "pygments_lexer": "ipython3",
   "version": "3.8.8"
  }
 },
 "nbformat": 4,
 "nbformat_minor": 5
}
